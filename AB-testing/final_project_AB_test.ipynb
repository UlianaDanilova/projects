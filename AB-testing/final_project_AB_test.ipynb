{
 "cells": [
  {
   "cell_type": "markdown",
   "id": "4a928c94",
   "metadata": {},
   "source": [
    "# A/B-test"
   ]
  },
  {
   "cell_type": "markdown",
   "id": "01e2ae1c",
   "metadata": {},
   "source": [
    " Project goals: evaluation of A/B test, including evaluation of methodology and analyze results.<br>\n",
    " Sources: technical assignment, user dataset, and a few auxiliary datasets. "
   ]
  },
  {
   "cell_type": "markdown",
   "id": "ff52c7dc",
   "metadata": {},
   "source": [
    "Technical assignment:<br>\n",
    "Test Name: recommender_system_test<br>\n",
    "Groups: A (control), B (new payment funnel)<br>\n",
    "Start Date: 2020-12-07<br>\n",
    "End Date for New User Enrollment: 2020-12-21<br>\n",
    "End Date: 2021-01-04<br>\n",
    "Expected Number of Test Participants: 15% of new users from the EU region<br>\n",
    "Purpose of the Test: Testing changes related to the implementation of an improved recommender system\n",
    "Expected Effect: Within 14 days from the moment of registration, users should show an improvement of each metric by at least 5 percentage points:<br>\n",
    " - Conversion to viewing product cards — event: product_page<br>\n",
    " - Viewing of the cart — event: product_cart<br>\n",
    " - Purchases — event: purchase <br>"
   ]
  },
  {
   "cell_type": "markdown",
   "id": "494a77d0",
   "metadata": {},
   "source": [
    "1. [Uploading data](#loading)\n",
    "2. [Data preprocessing](#preprocessing)\n",
    " * [Data type conversion](#type)\n",
    " * [Omissions and duplicates processing](#duplicated)\n",
    "3. [Evaluation of testing methodology ](#correct_test)\n",
    " * [Check data versus Technical assignment](#correct_data)\n",
    " * [Testing date check](#correct_time)\n",
    " * [Test sample check](#correct_auditorium)\n",
    "4. [Data Research](#analysis)\n",
    " * [User event distribution for test samples](#event_user)\n",
    " * [Event distribution in time](#event_day)\n",
    " * [Sample User converstion data by group](#conversion)\n",
    "5. [A/B test results evaluation](#AB_test)\n",
    "6. [Conclusion](#conclusion)"
   ]
  },
  {
   "cell_type": "markdown",
   "id": "78ce138b",
   "metadata": {},
   "source": [
    "## Uploading data <a id=\"loading\"></a>"
   ]
  },
  {
   "cell_type": "code",
   "execution_count": 25,
   "id": "d5146b31",
   "metadata": {},
   "outputs": [],
   "source": [
    "import pandas as pd\n",
    "from scipy import stats as st\n",
    "import math as mth\n",
    "import datetime as dt\n",
    "import numpy as np\n",
    "import matplotlib.pyplot as plt\n",
    "import seaborn as sns\n",
    "import warnings"
   ]
  },
  {
   "cell_type": "code",
   "execution_count": 26,
   "id": "f64af98f",
   "metadata": {},
   "outputs": [],
   "source": [
    "ab_events = pd.read_csv('datasets/final_ab_events.csv')\n",
    "marketing_events = pd.read_csv('datasets/ab_project_marketing_events.csv')\n",
    "new_users = pd.read_csv('datasets/final_ab_new_users.csv')\n",
    "ab_participants = pd.read_csv('datasets/final_ab_participants.csv')"
   ]
  },
  {
   "cell_type": "code",
   "execution_count": 27,
   "id": "b1d4ba50",
   "metadata": {
    "scrolled": true
   },
   "outputs": [
    {
     "name": "stdout",
     "output_type": "stream",
     "text": [
      "<class 'pandas.core.frame.DataFrame'>\n",
      "RangeIndex: 440317 entries, 0 to 440316\n",
      "Data columns (total 4 columns):\n",
      " #   Column      Non-Null Count   Dtype  \n",
      "---  ------      --------------   -----  \n",
      " 0   user_id     440317 non-null  object \n",
      " 1   event_dt    440317 non-null  object \n",
      " 2   event_name  440317 non-null  object \n",
      " 3   details     62740 non-null   float64\n",
      "dtypes: float64(1), object(3)\n",
      "memory usage: 13.4+ MB\n"
     ]
    },
    {
     "data": {
      "text/html": [
       "<div>\n",
       "<style scoped>\n",
       "    .dataframe tbody tr th:only-of-type {\n",
       "        vertical-align: middle;\n",
       "    }\n",
       "\n",
       "    .dataframe tbody tr th {\n",
       "        vertical-align: top;\n",
       "    }\n",
       "\n",
       "    .dataframe thead th {\n",
       "        text-align: right;\n",
       "    }\n",
       "</style>\n",
       "<table border=\"1\" class=\"dataframe\">\n",
       "  <thead>\n",
       "    <tr style=\"text-align: right;\">\n",
       "      <th></th>\n",
       "      <th>user_id</th>\n",
       "      <th>event_dt</th>\n",
       "      <th>event_name</th>\n",
       "      <th>details</th>\n",
       "    </tr>\n",
       "  </thead>\n",
       "  <tbody>\n",
       "    <tr>\n",
       "      <th>0</th>\n",
       "      <td>E1BDDCE0DAFA2679</td>\n",
       "      <td>2020-12-07 20:22:03</td>\n",
       "      <td>purchase</td>\n",
       "      <td>99.99</td>\n",
       "    </tr>\n",
       "    <tr>\n",
       "      <th>1</th>\n",
       "      <td>7B6452F081F49504</td>\n",
       "      <td>2020-12-07 09:22:53</td>\n",
       "      <td>purchase</td>\n",
       "      <td>9.99</td>\n",
       "    </tr>\n",
       "    <tr>\n",
       "      <th>2</th>\n",
       "      <td>9CD9F34546DF254C</td>\n",
       "      <td>2020-12-07 12:59:29</td>\n",
       "      <td>purchase</td>\n",
       "      <td>4.99</td>\n",
       "    </tr>\n",
       "    <tr>\n",
       "      <th>3</th>\n",
       "      <td>96F27A054B191457</td>\n",
       "      <td>2020-12-07 04:02:40</td>\n",
       "      <td>purchase</td>\n",
       "      <td>4.99</td>\n",
       "    </tr>\n",
       "    <tr>\n",
       "      <th>4</th>\n",
       "      <td>1FD7660FDF94CA1F</td>\n",
       "      <td>2020-12-07 10:15:09</td>\n",
       "      <td>purchase</td>\n",
       "      <td>4.99</td>\n",
       "    </tr>\n",
       "  </tbody>\n",
       "</table>\n",
       "</div>"
      ],
      "text/plain": [
       "            user_id             event_dt event_name  details\n",
       "0  E1BDDCE0DAFA2679  2020-12-07 20:22:03   purchase    99.99\n",
       "1  7B6452F081F49504  2020-12-07 09:22:53   purchase     9.99\n",
       "2  9CD9F34546DF254C  2020-12-07 12:59:29   purchase     4.99\n",
       "3  96F27A054B191457  2020-12-07 04:02:40   purchase     4.99\n",
       "4  1FD7660FDF94CA1F  2020-12-07 10:15:09   purchase     4.99"
      ]
     },
     "metadata": {},
     "output_type": "display_data"
    },
    {
     "name": "stdout",
     "output_type": "stream",
     "text": [
      "**************************************************\n",
      "<class 'pandas.core.frame.DataFrame'>\n",
      "RangeIndex: 14 entries, 0 to 13\n",
      "Data columns (total 4 columns):\n",
      " #   Column     Non-Null Count  Dtype \n",
      "---  ------     --------------  ----- \n",
      " 0   name       14 non-null     object\n",
      " 1   regions    14 non-null     object\n",
      " 2   start_dt   14 non-null     object\n",
      " 3   finish_dt  14 non-null     object\n",
      "dtypes: object(4)\n",
      "memory usage: 576.0+ bytes\n"
     ]
    },
    {
     "data": {
      "text/html": [
       "<div>\n",
       "<style scoped>\n",
       "    .dataframe tbody tr th:only-of-type {\n",
       "        vertical-align: middle;\n",
       "    }\n",
       "\n",
       "    .dataframe tbody tr th {\n",
       "        vertical-align: top;\n",
       "    }\n",
       "\n",
       "    .dataframe thead th {\n",
       "        text-align: right;\n",
       "    }\n",
       "</style>\n",
       "<table border=\"1\" class=\"dataframe\">\n",
       "  <thead>\n",
       "    <tr style=\"text-align: right;\">\n",
       "      <th></th>\n",
       "      <th>name</th>\n",
       "      <th>regions</th>\n",
       "      <th>start_dt</th>\n",
       "      <th>finish_dt</th>\n",
       "    </tr>\n",
       "  </thead>\n",
       "  <tbody>\n",
       "    <tr>\n",
       "      <th>0</th>\n",
       "      <td>Christmas&amp;New Year Promo</td>\n",
       "      <td>EU, N.America</td>\n",
       "      <td>2020-12-25</td>\n",
       "      <td>2021-01-03</td>\n",
       "    </tr>\n",
       "    <tr>\n",
       "      <th>1</th>\n",
       "      <td>St. Valentine's Day Giveaway</td>\n",
       "      <td>EU, CIS, APAC, N.America</td>\n",
       "      <td>2020-02-14</td>\n",
       "      <td>2020-02-16</td>\n",
       "    </tr>\n",
       "    <tr>\n",
       "      <th>2</th>\n",
       "      <td>St. Patric's Day Promo</td>\n",
       "      <td>EU, N.America</td>\n",
       "      <td>2020-03-17</td>\n",
       "      <td>2020-03-19</td>\n",
       "    </tr>\n",
       "    <tr>\n",
       "      <th>3</th>\n",
       "      <td>Easter Promo</td>\n",
       "      <td>EU, CIS, APAC, N.America</td>\n",
       "      <td>2020-04-12</td>\n",
       "      <td>2020-04-19</td>\n",
       "    </tr>\n",
       "    <tr>\n",
       "      <th>4</th>\n",
       "      <td>4th of July Promo</td>\n",
       "      <td>N.America</td>\n",
       "      <td>2020-07-04</td>\n",
       "      <td>2020-07-11</td>\n",
       "    </tr>\n",
       "  </tbody>\n",
       "</table>\n",
       "</div>"
      ],
      "text/plain": [
       "                           name                   regions    start_dt  \\\n",
       "0      Christmas&New Year Promo             EU, N.America  2020-12-25   \n",
       "1  St. Valentine's Day Giveaway  EU, CIS, APAC, N.America  2020-02-14   \n",
       "2        St. Patric's Day Promo             EU, N.America  2020-03-17   \n",
       "3                  Easter Promo  EU, CIS, APAC, N.America  2020-04-12   \n",
       "4             4th of July Promo                 N.America  2020-07-04   \n",
       "\n",
       "    finish_dt  \n",
       "0  2021-01-03  \n",
       "1  2020-02-16  \n",
       "2  2020-03-19  \n",
       "3  2020-04-19  \n",
       "4  2020-07-11  "
      ]
     },
     "metadata": {},
     "output_type": "display_data"
    },
    {
     "name": "stdout",
     "output_type": "stream",
     "text": [
      "**************************************************\n",
      "<class 'pandas.core.frame.DataFrame'>\n",
      "RangeIndex: 61733 entries, 0 to 61732\n",
      "Data columns (total 4 columns):\n",
      " #   Column      Non-Null Count  Dtype \n",
      "---  ------      --------------  ----- \n",
      " 0   user_id     61733 non-null  object\n",
      " 1   first_date  61733 non-null  object\n",
      " 2   region      61733 non-null  object\n",
      " 3   device      61733 non-null  object\n",
      "dtypes: object(4)\n",
      "memory usage: 1.9+ MB\n"
     ]
    },
    {
     "data": {
      "text/html": [
       "<div>\n",
       "<style scoped>\n",
       "    .dataframe tbody tr th:only-of-type {\n",
       "        vertical-align: middle;\n",
       "    }\n",
       "\n",
       "    .dataframe tbody tr th {\n",
       "        vertical-align: top;\n",
       "    }\n",
       "\n",
       "    .dataframe thead th {\n",
       "        text-align: right;\n",
       "    }\n",
       "</style>\n",
       "<table border=\"1\" class=\"dataframe\">\n",
       "  <thead>\n",
       "    <tr style=\"text-align: right;\">\n",
       "      <th></th>\n",
       "      <th>user_id</th>\n",
       "      <th>first_date</th>\n",
       "      <th>region</th>\n",
       "      <th>device</th>\n",
       "    </tr>\n",
       "  </thead>\n",
       "  <tbody>\n",
       "    <tr>\n",
       "      <th>0</th>\n",
       "      <td>D72A72121175D8BE</td>\n",
       "      <td>2020-12-07</td>\n",
       "      <td>EU</td>\n",
       "      <td>PC</td>\n",
       "    </tr>\n",
       "    <tr>\n",
       "      <th>1</th>\n",
       "      <td>F1C668619DFE6E65</td>\n",
       "      <td>2020-12-07</td>\n",
       "      <td>N.America</td>\n",
       "      <td>Android</td>\n",
       "    </tr>\n",
       "    <tr>\n",
       "      <th>2</th>\n",
       "      <td>2E1BF1D4C37EA01F</td>\n",
       "      <td>2020-12-07</td>\n",
       "      <td>EU</td>\n",
       "      <td>PC</td>\n",
       "    </tr>\n",
       "    <tr>\n",
       "      <th>3</th>\n",
       "      <td>50734A22C0C63768</td>\n",
       "      <td>2020-12-07</td>\n",
       "      <td>EU</td>\n",
       "      <td>iPhone</td>\n",
       "    </tr>\n",
       "    <tr>\n",
       "      <th>4</th>\n",
       "      <td>E1BDDCE0DAFA2679</td>\n",
       "      <td>2020-12-07</td>\n",
       "      <td>N.America</td>\n",
       "      <td>iPhone</td>\n",
       "    </tr>\n",
       "  </tbody>\n",
       "</table>\n",
       "</div>"
      ],
      "text/plain": [
       "            user_id  first_date     region   device\n",
       "0  D72A72121175D8BE  2020-12-07         EU       PC\n",
       "1  F1C668619DFE6E65  2020-12-07  N.America  Android\n",
       "2  2E1BF1D4C37EA01F  2020-12-07         EU       PC\n",
       "3  50734A22C0C63768  2020-12-07         EU   iPhone\n",
       "4  E1BDDCE0DAFA2679  2020-12-07  N.America   iPhone"
      ]
     },
     "metadata": {},
     "output_type": "display_data"
    },
    {
     "name": "stdout",
     "output_type": "stream",
     "text": [
      "**************************************************\n",
      "<class 'pandas.core.frame.DataFrame'>\n",
      "RangeIndex: 18268 entries, 0 to 18267\n",
      "Data columns (total 3 columns):\n",
      " #   Column   Non-Null Count  Dtype \n",
      "---  ------   --------------  ----- \n",
      " 0   user_id  18268 non-null  object\n",
      " 1   group    18268 non-null  object\n",
      " 2   ab_test  18268 non-null  object\n",
      "dtypes: object(3)\n",
      "memory usage: 428.3+ KB\n"
     ]
    },
    {
     "data": {
      "text/html": [
       "<div>\n",
       "<style scoped>\n",
       "    .dataframe tbody tr th:only-of-type {\n",
       "        vertical-align: middle;\n",
       "    }\n",
       "\n",
       "    .dataframe tbody tr th {\n",
       "        vertical-align: top;\n",
       "    }\n",
       "\n",
       "    .dataframe thead th {\n",
       "        text-align: right;\n",
       "    }\n",
       "</style>\n",
       "<table border=\"1\" class=\"dataframe\">\n",
       "  <thead>\n",
       "    <tr style=\"text-align: right;\">\n",
       "      <th></th>\n",
       "      <th>user_id</th>\n",
       "      <th>group</th>\n",
       "      <th>ab_test</th>\n",
       "    </tr>\n",
       "  </thead>\n",
       "  <tbody>\n",
       "    <tr>\n",
       "      <th>0</th>\n",
       "      <td>D1ABA3E2887B6A73</td>\n",
       "      <td>A</td>\n",
       "      <td>recommender_system_test</td>\n",
       "    </tr>\n",
       "    <tr>\n",
       "      <th>1</th>\n",
       "      <td>A7A3664BD6242119</td>\n",
       "      <td>A</td>\n",
       "      <td>recommender_system_test</td>\n",
       "    </tr>\n",
       "    <tr>\n",
       "      <th>2</th>\n",
       "      <td>DABC14FDDFADD29E</td>\n",
       "      <td>A</td>\n",
       "      <td>recommender_system_test</td>\n",
       "    </tr>\n",
       "    <tr>\n",
       "      <th>3</th>\n",
       "      <td>04988C5DF189632E</td>\n",
       "      <td>A</td>\n",
       "      <td>recommender_system_test</td>\n",
       "    </tr>\n",
       "    <tr>\n",
       "      <th>4</th>\n",
       "      <td>482F14783456D21B</td>\n",
       "      <td>B</td>\n",
       "      <td>recommender_system_test</td>\n",
       "    </tr>\n",
       "  </tbody>\n",
       "</table>\n",
       "</div>"
      ],
      "text/plain": [
       "            user_id group                  ab_test\n",
       "0  D1ABA3E2887B6A73     A  recommender_system_test\n",
       "1  A7A3664BD6242119     A  recommender_system_test\n",
       "2  DABC14FDDFADD29E     A  recommender_system_test\n",
       "3  04988C5DF189632E     A  recommender_system_test\n",
       "4  482F14783456D21B     B  recommender_system_test"
      ]
     },
     "metadata": {},
     "output_type": "display_data"
    },
    {
     "name": "stdout",
     "output_type": "stream",
     "text": [
      "**************************************************\n"
     ]
    }
   ],
   "source": [
    "for dataset in [ab_events, marketing_events, new_users, ab_participants]:\n",
    "    dataset.info()\n",
    "    display(dataset.head())\n",
    "    print('*'*50)"
   ]
  },
  {
   "cell_type": "markdown",
   "id": "3c5450e5",
   "metadata": {},
   "source": [
    "Data format is incorrect, hence it should be replaced to the 'datetime' format."
   ]
  },
  {
   "cell_type": "markdown",
   "id": "41ea4cee",
   "metadata": {},
   "source": [
    "## Data preprocessing <a id=\"preprocessing\"></a>"
   ]
  },
  {
   "cell_type": "markdown",
   "id": "f0d546d0",
   "metadata": {},
   "source": [
    "### Data type conversion  <a id=\"type\"></a>"
   ]
  },
  {
   "cell_type": "code",
   "execution_count": 28,
   "id": "2e6eb055",
   "metadata": {},
   "outputs": [
    {
     "name": "stdout",
     "output_type": "stream",
     "text": [
      "datetime64[ns]\n",
      "datetime64[ns]\n",
      "datetime64[ns]\n",
      "datetime64[ns]\n"
     ]
    }
   ],
   "source": [
    "# conversion\n",
    "ab_events['event_dt'] = pd.to_datetime(ab_events['event_dt'], format='%Y-%m-%d %H:%M:%S')\n",
    "marketing_events['start_dt'] = pd.to_datetime(marketing_events['start_dt'], format='%Y-%m-%d')\n",
    "marketing_events['finish_dt'] = pd.to_datetime(marketing_events['finish_dt'], format='%Y-%m-%d')\n",
    "new_users['first_date'] = pd.to_datetime(new_users['first_date'], format='%Y-%m-%d')\n",
    "\n",
    "#checking\n",
    "for column in [ab_events['event_dt'], marketing_events['start_dt'], marketing_events['finish_dt'], new_users['first_date']]:\n",
    "    print(column.dtypes)"
   ]
  },
  {
   "cell_type": "markdown",
   "id": "4a96984d",
   "metadata": {},
   "source": [
    "### Omissions and duplicates processing  <a id=\"duplicated\"></a>"
   ]
  },
  {
   "cell_type": "code",
   "execution_count": 29,
   "id": "afb72f93",
   "metadata": {
    "scrolled": true
   },
   "outputs": [
    {
     "name": "stdout",
     "output_type": "stream",
     "text": [
      "Duplicate check\n",
      "0\n",
      "0\n",
      "0\n",
      "0\n",
      "Omission check\n",
      "user_id            0\n",
      "event_dt           0\n",
      "event_name         0\n",
      "details       377577\n",
      "dtype: int64\n",
      "**************************************************\n",
      "name         0\n",
      "regions      0\n",
      "start_dt     0\n",
      "finish_dt    0\n",
      "dtype: int64\n",
      "**************************************************\n",
      "user_id       0\n",
      "first_date    0\n",
      "region        0\n",
      "device        0\n",
      "dtype: int64\n",
      "**************************************************\n",
      "user_id    0\n",
      "group      0\n",
      "ab_test    0\n",
      "dtype: int64\n",
      "**************************************************\n"
     ]
    }
   ],
   "source": [
    "print('Duplicate check')\n",
    "for dataset in [ab_events, marketing_events, new_users, ab_participants]:\n",
    "    print(dataset.duplicated().sum())\n",
    "    \n",
    "print('Omission check')\n",
    "for dataset in [ab_events, marketing_events, new_users, ab_participants]:\n",
    "    print(dataset.isnull().sum())\n",
    "    print('*'*50)\n",
    "    "
   ]
  },
  {
   "cell_type": "markdown",
   "id": "e7633794",
   "metadata": {},
   "source": [
    "## Evaluation of testing methodology <a id=\"correct_test\"></a>"
   ]
  },
  {
   "cell_type": "markdown",
   "id": "3234cba3",
   "metadata": {},
   "source": [
    "### Check data versus Technical assignment <a id=\"correct_data\"></a>"
   ]
  },
  {
   "cell_type": "code",
   "execution_count": 30,
   "id": "78011d7d",
   "metadata": {},
   "outputs": [],
   "source": [
    "#merge datasets\n",
    "temp = pd.merge(ab_participants, new_users, left_on='user_id', right_on='user_id', how='left')\n",
    "ab_test = pd.merge(temp, ab_events, left_on='user_id', right_on='user_id', how='left')"
   ]
  },
  {
   "cell_type": "code",
   "execution_count": 31,
   "id": "98d8c05f",
   "metadata": {},
   "outputs": [
    {
     "name": "stdout",
     "output_type": "stream",
     "text": [
      "test type: ['recommender_system_test' 'interface_eu_test']\n",
      "2020-12-07 00:02:48\n",
      "2020-12-30 18:28:55\n"
     ]
    }
   ],
   "source": [
    "#test type check \n",
    "print(f'test type: {ab_test.ab_test.unique()}')\n",
    "#interface_eu_test date check \n",
    "print(ab_test.query('ab_test == \"interface_eu_test\"')['event_dt'].min())\n",
    "print(ab_test.query('ab_test == \"interface_eu_test\"')['event_dt'].max())\n",
    "#removing interface_eu_test\n",
    "ab_test = ab_test.query('ab_test == \"recommender_system_test\"')"
   ]
  },
  {
   "cell_type": "code",
   "execution_count": 32,
   "id": "a04456fc",
   "metadata": {},
   "outputs": [
    {
     "name": "stdout",
     "output_type": "stream",
     "text": [
      "User regions ['EU' 'N.America' 'CIS' 'APAC']\n",
      "A/B test new user share in EU - 0.14\n"
     ]
    }
   ],
   "source": [
    "#region check for new users\n",
    "print('User regions', ab_test.query('group == \"A\"| group == \"B\"')['region'].unique())\n",
    "print(\n",
    "    'A/B test new user share in EU -',\n",
    "    round(ab_test.query('region == \"EU\"')['user_id'].nunique()/\n",
    "    new_users.query('region == \"EU\"')['user_id'].nunique(), 2)\n",
    ")\n",
    "# removing new users, not EU\n",
    "ab_test = ab_test.query('region == \"EU\"')"
   ]
  },
  {
   "cell_type": "markdown",
   "id": "cc8101c4",
   "metadata": {},
   "source": [
    " 1. Users outside EU were wrongly included in the test. They need to be deleted.\n",
    " 2. Based on the technical assignment, the target was 15% of new users in EU. In fact, it's 14%."
   ]
  },
  {
   "cell_type": "markdown",
   "id": "6cd7722b",
   "metadata": {},
   "source": [
    "### Testing date check <a id=\"correct_time\"></a>"
   ]
  },
  {
   "cell_type": "code",
   "execution_count": 33,
   "id": "52962d4d",
   "metadata": {
    "scrolled": true
   },
   "outputs": [
    {
     "name": "stdout",
     "output_type": "stream",
     "text": [
      "test user cohort start date  - 2020-12-07 00:00:00\n",
      "test user cohort end date - 2020-12-21 00:00:00\n",
      "first user event date - 2020-12-07 00:05:57\n",
      "last user event date - 2020-12-30 12:42:57\n",
      "--------------------\n",
      "User zero to 14 days\n"
     ]
    },
    {
     "data": {
      "text/plain": [
       "3147"
      ]
     },
     "metadata": {},
     "output_type": "display_data"
    },
    {
     "name": "stdout",
     "output_type": "stream",
     "text": [
      "Users with zero events\n"
     ]
    },
    {
     "data": {
      "text/plain": [
       "2870"
      ]
     },
     "metadata": {},
     "output_type": "display_data"
    }
   ],
   "source": [
    "#date checking  \n",
    "print(f'test user cohort start date  - {ab_test.first_date.min()}')\n",
    "print(f'test user cohort end date - {ab_test.first_date.max()}')\n",
    "print(f'first user event date - {ab_test.event_dt.min()}')\n",
    "print(f'last user event date - {ab_test.event_dt.max()}')\n",
    "print('-'*20)\n",
    "# check user lifetime (14 days)\n",
    "life_time = ab_test.groupby('user_id', as_index=False).agg({'first_date':'max',\n",
    "                                                            'event_dt':'max'})\n",
    "print('User zero to 14 days')\n",
    "display(life_time.query('(event_dt - first_date).dt.days < 14 & event_dt.notnull()')['event_dt'].count())\n",
    "print('Users with zero events')\n",
    "display(life_time.isnull()['event_dt'].sum())"
   ]
  },
  {
   "cell_type": "markdown",
   "id": "9a0d30d6",
   "metadata": {},
   "source": [
    "1. Test/user cohort start date is in line with the technical assignment (2020-12-07). \n",
    "2. User cohort end date is in line (2020-12-21). \n",
    "3. Last user event date is not in line. It should be 2021-01-04, actual last date in the dataset was 2020-12-30.\n",
    "4. 2870 users with zero events, so they didn't convert to registration. \n",
    "5. 3147 user with lifetime under 14 days. The lifetime is calculated as difference between last user event data and user start date. We keep them as users might open the apps infrequently (e.g., the users open the app 1-2 time a month)."
   ]
  },
  {
   "cell_type": "code",
   "execution_count": 34,
   "id": "b49aa911",
   "metadata": {},
   "outputs": [
    {
     "data": {
      "text/html": [
       "<div>\n",
       "<style scoped>\n",
       "    .dataframe tbody tr th:only-of-type {\n",
       "        vertical-align: middle;\n",
       "    }\n",
       "\n",
       "    .dataframe tbody tr th {\n",
       "        vertical-align: top;\n",
       "    }\n",
       "\n",
       "    .dataframe thead th {\n",
       "        text-align: right;\n",
       "    }\n",
       "</style>\n",
       "<table border=\"1\" class=\"dataframe\">\n",
       "  <thead>\n",
       "    <tr style=\"text-align: right;\">\n",
       "      <th></th>\n",
       "      <th>name</th>\n",
       "      <th>regions</th>\n",
       "      <th>start_dt</th>\n",
       "      <th>finish_dt</th>\n",
       "    </tr>\n",
       "  </thead>\n",
       "  <tbody>\n",
       "    <tr>\n",
       "      <th>0</th>\n",
       "      <td>Christmas&amp;New Year Promo</td>\n",
       "      <td>EU, N.America</td>\n",
       "      <td>2020-12-25</td>\n",
       "      <td>2021-01-03</td>\n",
       "    </tr>\n",
       "    <tr>\n",
       "      <th>10</th>\n",
       "      <td>CIS New Year Gift Lottery</td>\n",
       "      <td>CIS</td>\n",
       "      <td>2020-12-30</td>\n",
       "      <td>2021-01-07</td>\n",
       "    </tr>\n",
       "  </tbody>\n",
       "</table>\n",
       "</div>"
      ],
      "text/plain": [
       "                         name        regions   start_dt  finish_dt\n",
       "0    Christmas&New Year Promo  EU, N.America 2020-12-25 2021-01-03\n",
       "10  CIS New Year Gift Lottery            CIS 2020-12-30 2021-01-07"
      ]
     },
     "execution_count": 34,
     "metadata": {},
     "output_type": "execute_result"
    }
   ],
   "source": [
    "# test date check versus marketing programs\n",
    "date_start_test = pd.Timestamp('2020-12-07')\n",
    "date_stop_test = pd.Timestamp('2021-01-04')\n",
    "\n",
    "\n",
    "def check_date(row):\n",
    "    if row['start_dt'] <= date_stop_test <= row['finish_dt']:\n",
    "        return True\n",
    "    elif row['start_dt'] <= date_start_test <= row['finish_dt']:\n",
    "        return True\n",
    "    elif date_start_test <= row['start_dt'] <= date_stop_test:\n",
    "        return True\n",
    "    else:\n",
    "        return False\n",
    "    \n",
    "marketing_events[marketing_events.apply(lambda x: check_date(x), axis=1)]"
   ]
  },
  {
   "cell_type": "markdown",
   "id": "237833fa",
   "metadata": {},
   "source": [
    "There were two marketing programs during the testing period. Only one was in the EU region. \n",
    "Testing was done during the Christmas / New Year holiday break when user behaviour could be abnormal. \n",
    "Those factors can affect the results of the test."
   ]
  },
  {
   "cell_type": "markdown",
   "id": "9243434c",
   "metadata": {},
   "source": [
    "### Test sample check <a id=\"correct_auditorium\"></a>"
   ]
  },
  {
   "cell_type": "code",
   "execution_count": 35,
   "id": "4236ef88",
   "metadata": {},
   "outputs": [
    {
     "name": "stdout",
     "output_type": "stream",
     "text": [
      "Number of users in both groups 0\n"
     ]
    }
   ],
   "source": [
    "# check users who participated in the test groups\n",
    "test_A = ab_test.query('group == \"A\"')\n",
    "test_B = ab_test.query('group == \"B\"')\n",
    "users_AB = pd.merge(test_A, test_B, left_on='user_id', right_on='user_id', how='inner')['user_id']\n",
    "print(f'Number of users in both groups {users_AB.nunique()}')"
   ]
  },
  {
   "cell_type": "code",
   "execution_count": 36,
   "id": "8f93c22a",
   "metadata": {},
   "outputs": [
    {
     "name": "stdout",
     "output_type": "stream",
     "text": [
      "Number of users in both tests 1602\n"
     ]
    }
   ],
   "source": [
    "# check user overlap with another test\n",
    "test_r = ab_participants.query('ab_test == \"recommender_system_test\"')\n",
    "test_i = ab_participants.query('ab_test == \"interface_eu_test\"')\n",
    "test_ri = pd.merge(test_r, test_i, left_on='user_id', right_on='user_id', how='inner')\n",
    "print('Number of users in both tests', test_ri['user_id'].nunique())\n",
    "\n",
    "#removing the users participated in both tests\n",
    "ab_test = ab_test.query('user_id not in @test_ri.user_id')"
   ]
  },
  {
   "cell_type": "markdown",
   "id": "9f86cbad",
   "metadata": {},
   "source": [
    "As timing of two test overlap, the users particiapted in both tests should be removed as the behaviour could be affected by another test."
   ]
  },
  {
   "cell_type": "code",
   "execution_count": 37,
   "id": "9d8b6cec",
   "metadata": {},
   "outputs": [
    {
     "name": "stdout",
     "output_type": "stream",
     "text": [
      "Number of test users 4749\n"
     ]
    }
   ],
   "source": [
    "#checking number of test users \n",
    "print('Number of test users', ab_test.query('ab_test == \"recommender_system_test\"').user_id.nunique())"
   ]
  },
  {
   "cell_type": "markdown",
   "id": "796ac685",
   "metadata": {},
   "source": [
    "Expected number of test users was 6000. However, the actual number after filtering is 4749"
   ]
  },
  {
   "cell_type": "code",
   "execution_count": 38,
   "id": "f6bb540c",
   "metadata": {},
   "outputs": [
    {
     "name": "stdout",
     "output_type": "stream",
     "text": [
      "Группа А - 2713\n",
      "Группа В - 2036\n",
      "0.33\n"
     ]
    },
    {
     "data": {
      "image/png": "[encoded data removed]",
      "text/plain": [
       "<Figure size 1080x360 with 2 Axes>"
      ]
     },
     "metadata": {
      "needs_background": "light"
     },
     "output_type": "display_data"
    }
   ],
   "source": [
    "#check of testing groups size and methodology\n",
    "print('Группа А -', ab_test.query('group == \"A\"').user_id.nunique())\n",
    "print('Группа В -', ab_test.query('group == \"B\"').user_id.nunique())\n",
    "print(round((ab_test.query('group == \"A\"').user_id.nunique()\n",
    "       -ab_test.query('group == \"B\"').user_id.nunique())\n",
    "      /ab_test.query('group == \"B\"').user_id.nunique(), 2))\n",
    "\n",
    "\n",
    "fig, (ax1, ax2) = plt.subplots(1, 2, figsize = (15, 5))\n",
    "\n",
    "(\n",
    "    ab_test.query('group == \"A\"')\n",
    "    .groupby('first_date')['user_id']\n",
    "    .nunique()\n",
    "    .plot(label='group A', legend=True, ax=ax1))\n",
    "(\n",
    "    ab_test.query('group == \"B\"')\n",
    "    .groupby('first_date')['user_id']\n",
    "    .nunique()\n",
    "    .plot(label='group B', legend=True, ax=ax1, title = 'New users. daily'))\n",
    "\n",
    "# Dynamics of users with zero events \n",
    "not_active_users = life_time.query('event_dt.isna()')['user_id']\n",
    "\n",
    "(\n",
    "    ab_test.query('group == \"A\" & user_id in @not_active_users')\n",
    "    .groupby('first_date')['user_id']\n",
    "    .nunique()\n",
    "    .plot(label='group A', legend=True, ax=ax2))\n",
    "(\n",
    "    ab_test.query('group == \"B\" & user_id in @not_active_users')\n",
    "    .groupby('first_date')['user_id']\n",
    "    .nunique()\n",
    "    .plot(label='group B', legend=True, ax=ax2, title='New users with zero events, daily'))\n",
    "plt.show()"
   ]
  },
  {
   "cell_type": "markdown",
   "id": "9fd4e63a",
   "metadata": {},
   "source": [
    "Group A is 1.33 larger than group B. Zero event users (non-active) were added to B throughout the period, where as to A inly until December 13th."
   ]
  },
  {
   "cell_type": "markdown",
   "id": "0259d6cc",
   "metadata": {},
   "source": [
    "## Data Research <a id=\"analysis\"></a>"
   ]
  },
  {
   "cell_type": "markdown",
   "id": "ab8a21f7",
   "metadata": {},
   "source": [
    "### User event distribution for test samples <a id=\"event_user\"></a>"
   ]
  },
  {
   "cell_type": "code",
   "execution_count": 39,
   "id": "87e55b70",
   "metadata": {
    "scrolled": false
   },
   "outputs": [
    {
     "data": {
      "image/png": "[encoded data removed]",
      "text/plain": [
       "<Figure size 432x288 with 1 Axes>"
      ]
     },
     "metadata": {
      "needs_background": "light"
     },
     "output_type": "display_data"
    }
   ],
   "source": [
    "sns.boxplot(data = ab_test.groupby(['group', 'user_id'], as_index=False)['event_name'].count(), \n",
    "            x='event_name', \n",
    "            y='group')\n",
    "plt.title('User event distribution')\n",
    "plt.xlabel('number of events')\n",
    "plt.show()"
   ]
  },
  {
   "cell_type": "markdown",
   "id": "6cc541d1",
   "metadata": {},
   "source": [
    "User Event distributions among groups are not equal. Group A: 50% users had 0 to 8 events, median 4. Group B: 50% users had 0 to 3 events, median Zero. "
   ]
  },
  {
   "cell_type": "markdown",
   "id": "52fd1cec",
   "metadata": {},
   "source": [
    "### Event distribution in time  <a id=\"event_day\"></a>"
   ]
  },
  {
   "cell_type": "code",
   "execution_count": 40,
   "id": "ed2f413f",
   "metadata": {},
   "outputs": [
    {
     "data": {
      "image/png": "[encoded data removed]",
      "text/plain": [
       "<Figure size 432x288 with 1 Axes>"
      ]
     },
     "metadata": {
      "needs_background": "light"
     },
     "output_type": "display_data"
    }
   ],
   "source": [
    "ab_test['event_date'] = pd.to_datetime(ab_test['event_dt'].dt.date)\n",
    "ab_test.query('group == \"A\"').groupby('event_date')['event_date'].count().plot(grid=True, label='group A', legend=True)\n",
    "ab_test.query('group == \"B\"').groupby('event_date')['event_date'].count().plot(grid=True, label='group B', legend=True)\n",
    "plt.xticks(rotation=20)\n",
    "plt.title('User event across group by day')\n",
    "plt.show()"
   ]
  },
  {
   "cell_type": "markdown",
   "id": "1057c65e",
   "metadata": {},
   "source": [
    "Distribution of events in time is not similar as well"
   ]
  },
  {
   "cell_type": "code",
   "execution_count": 41,
   "id": "fd3ceb81",
   "metadata": {},
   "outputs": [
    {
     "data": {
      "text/html": [
       "<div>\n",
       "<style scoped>\n",
       "    .dataframe tbody tr th:only-of-type {\n",
       "        vertical-align: middle;\n",
       "    }\n",
       "\n",
       "    .dataframe tbody tr th {\n",
       "        vertical-align: top;\n",
       "    }\n",
       "\n",
       "    .dataframe thead th {\n",
       "        text-align: right;\n",
       "    }\n",
       "</style>\n",
       "<table border=\"1\" class=\"dataframe\">\n",
       "  <thead>\n",
       "    <tr style=\"text-align: right;\">\n",
       "      <th></th>\n",
       "      <th>user_id</th>\n",
       "      <th>group</th>\n",
       "      <th>ab_test</th>\n",
       "      <th>first_date</th>\n",
       "      <th>region</th>\n",
       "      <th>device</th>\n",
       "      <th>event_dt</th>\n",
       "      <th>event_name</th>\n",
       "      <th>details</th>\n",
       "      <th>event_date</th>\n",
       "    </tr>\n",
       "  </thead>\n",
       "  <tbody>\n",
       "    <tr>\n",
       "      <th>0</th>\n",
       "      <td>D1ABA3E2887B6A73</td>\n",
       "      <td>A</td>\n",
       "      <td>recommender_system_test</td>\n",
       "      <td>2020-12-07</td>\n",
       "      <td>EU</td>\n",
       "      <td>PC</td>\n",
       "      <td>2020-12-07 14:43:27</td>\n",
       "      <td>purchase</td>\n",
       "      <td>99.99</td>\n",
       "      <td>2020-12-07</td>\n",
       "    </tr>\n",
       "    <tr>\n",
       "      <th>1</th>\n",
       "      <td>D1ABA3E2887B6A73</td>\n",
       "      <td>A</td>\n",
       "      <td>recommender_system_test</td>\n",
       "      <td>2020-12-07</td>\n",
       "      <td>EU</td>\n",
       "      <td>PC</td>\n",
       "      <td>2020-12-25 00:04:56</td>\n",
       "      <td>purchase</td>\n",
       "      <td>4.99</td>\n",
       "      <td>2020-12-25</td>\n",
       "    </tr>\n",
       "    <tr>\n",
       "      <th>2</th>\n",
       "      <td>D1ABA3E2887B6A73</td>\n",
       "      <td>A</td>\n",
       "      <td>recommender_system_test</td>\n",
       "      <td>2020-12-07</td>\n",
       "      <td>EU</td>\n",
       "      <td>PC</td>\n",
       "      <td>2020-12-07 14:43:29</td>\n",
       "      <td>product_cart</td>\n",
       "      <td>NaN</td>\n",
       "      <td>2020-12-07</td>\n",
       "    </tr>\n",
       "    <tr>\n",
       "      <th>3</th>\n",
       "      <td>D1ABA3E2887B6A73</td>\n",
       "      <td>A</td>\n",
       "      <td>recommender_system_test</td>\n",
       "      <td>2020-12-07</td>\n",
       "      <td>EU</td>\n",
       "      <td>PC</td>\n",
       "      <td>2020-12-25 00:04:57</td>\n",
       "      <td>product_cart</td>\n",
       "      <td>NaN</td>\n",
       "      <td>2020-12-25</td>\n",
       "    </tr>\n",
       "    <tr>\n",
       "      <th>4</th>\n",
       "      <td>D1ABA3E2887B6A73</td>\n",
       "      <td>A</td>\n",
       "      <td>recommender_system_test</td>\n",
       "      <td>2020-12-07</td>\n",
       "      <td>EU</td>\n",
       "      <td>PC</td>\n",
       "      <td>2020-12-07 14:43:27</td>\n",
       "      <td>product_page</td>\n",
       "      <td>NaN</td>\n",
       "      <td>2020-12-07</td>\n",
       "    </tr>\n",
       "    <tr>\n",
       "      <th>...</th>\n",
       "      <td>...</td>\n",
       "      <td>...</td>\n",
       "      <td>...</td>\n",
       "      <td>...</td>\n",
       "      <td>...</td>\n",
       "      <td>...</td>\n",
       "      <td>...</td>\n",
       "      <td>...</td>\n",
       "      <td>...</td>\n",
       "      <td>...</td>\n",
       "    </tr>\n",
       "    <tr>\n",
       "      <th>26285</th>\n",
       "      <td>80712ED4EA1B52A5</td>\n",
       "      <td>A</td>\n",
       "      <td>recommender_system_test</td>\n",
       "      <td>2020-12-14</td>\n",
       "      <td>EU</td>\n",
       "      <td>Android</td>\n",
       "      <td>2020-12-15 20:10:06</td>\n",
       "      <td>product_page</td>\n",
       "      <td>NaN</td>\n",
       "      <td>2020-12-15</td>\n",
       "    </tr>\n",
       "    <tr>\n",
       "      <th>26286</th>\n",
       "      <td>80712ED4EA1B52A5</td>\n",
       "      <td>A</td>\n",
       "      <td>recommender_system_test</td>\n",
       "      <td>2020-12-14</td>\n",
       "      <td>EU</td>\n",
       "      <td>Android</td>\n",
       "      <td>2020-12-20 20:01:34</td>\n",
       "      <td>product_page</td>\n",
       "      <td>NaN</td>\n",
       "      <td>2020-12-20</td>\n",
       "    </tr>\n",
       "    <tr>\n",
       "      <th>26287</th>\n",
       "      <td>80712ED4EA1B52A5</td>\n",
       "      <td>A</td>\n",
       "      <td>recommender_system_test</td>\n",
       "      <td>2020-12-14</td>\n",
       "      <td>EU</td>\n",
       "      <td>Android</td>\n",
       "      <td>2020-12-14 05:48:50</td>\n",
       "      <td>login</td>\n",
       "      <td>NaN</td>\n",
       "      <td>2020-12-14</td>\n",
       "    </tr>\n",
       "    <tr>\n",
       "      <th>26288</th>\n",
       "      <td>80712ED4EA1B52A5</td>\n",
       "      <td>A</td>\n",
       "      <td>recommender_system_test</td>\n",
       "      <td>2020-12-14</td>\n",
       "      <td>EU</td>\n",
       "      <td>Android</td>\n",
       "      <td>2020-12-15 20:10:03</td>\n",
       "      <td>login</td>\n",
       "      <td>NaN</td>\n",
       "      <td>2020-12-15</td>\n",
       "    </tr>\n",
       "    <tr>\n",
       "      <th>26289</th>\n",
       "      <td>80712ED4EA1B52A5</td>\n",
       "      <td>A</td>\n",
       "      <td>recommender_system_test</td>\n",
       "      <td>2020-12-14</td>\n",
       "      <td>EU</td>\n",
       "      <td>Android</td>\n",
       "      <td>2020-12-20 20:01:32</td>\n",
       "      <td>login</td>\n",
       "      <td>NaN</td>\n",
       "      <td>2020-12-20</td>\n",
       "    </tr>\n",
       "  </tbody>\n",
       "</table>\n",
       "<p>19681 rows × 10 columns</p>\n",
       "</div>"
      ],
      "text/plain": [
       "                user_id group                  ab_test first_date region  \\\n",
       "0      D1ABA3E2887B6A73     A  recommender_system_test 2020-12-07     EU   \n",
       "1      D1ABA3E2887B6A73     A  recommender_system_test 2020-12-07     EU   \n",
       "2      D1ABA3E2887B6A73     A  recommender_system_test 2020-12-07     EU   \n",
       "3      D1ABA3E2887B6A73     A  recommender_system_test 2020-12-07     EU   \n",
       "4      D1ABA3E2887B6A73     A  recommender_system_test 2020-12-07     EU   \n",
       "...                 ...   ...                      ...        ...    ...   \n",
       "26285  80712ED4EA1B52A5     A  recommender_system_test 2020-12-14     EU   \n",
       "26286  80712ED4EA1B52A5     A  recommender_system_test 2020-12-14     EU   \n",
       "26287  80712ED4EA1B52A5     A  recommender_system_test 2020-12-14     EU   \n",
       "26288  80712ED4EA1B52A5     A  recommender_system_test 2020-12-14     EU   \n",
       "26289  80712ED4EA1B52A5     A  recommender_system_test 2020-12-14     EU   \n",
       "\n",
       "        device            event_dt    event_name  details event_date  \n",
       "0           PC 2020-12-07 14:43:27      purchase    99.99 2020-12-07  \n",
       "1           PC 2020-12-25 00:04:56      purchase     4.99 2020-12-25  \n",
       "2           PC 2020-12-07 14:43:29  product_cart      NaN 2020-12-07  \n",
       "3           PC 2020-12-25 00:04:57  product_cart      NaN 2020-12-25  \n",
       "4           PC 2020-12-07 14:43:27  product_page      NaN 2020-12-07  \n",
       "...        ...                 ...           ...      ...        ...  \n",
       "26285  Android 2020-12-15 20:10:06  product_page      NaN 2020-12-15  \n",
       "26286  Android 2020-12-20 20:01:34  product_page      NaN 2020-12-20  \n",
       "26287  Android 2020-12-14 05:48:50         login      NaN 2020-12-14  \n",
       "26288  Android 2020-12-15 20:10:03         login      NaN 2020-12-15  \n",
       "26289  Android 2020-12-20 20:01:32         login      NaN 2020-12-20  \n",
       "\n",
       "[19681 rows x 10 columns]"
      ]
     },
     "execution_count": 41,
     "metadata": {},
     "output_type": "execute_result"
    }
   ],
   "source": [
    "ab_test"
   ]
  },
  {
   "cell_type": "markdown",
   "id": "1cc6716c",
   "metadata": {},
   "source": [
    "### Sample User converstion data by group  <a id=\"conversion\"></a>"
   ]
  },
  {
   "cell_type": "code",
   "execution_count": 42,
   "id": "22023dd5",
   "metadata": {
    "scrolled": true
   },
   "outputs": [
    {
     "data": {
      "text/html": [
       "<div>\n",
       "<style scoped>\n",
       "    .dataframe tbody tr th:only-of-type {\n",
       "        vertical-align: middle;\n",
       "    }\n",
       "\n",
       "    .dataframe tbody tr th {\n",
       "        vertical-align: top;\n",
       "    }\n",
       "\n",
       "    .dataframe thead th {\n",
       "        text-align: right;\n",
       "    }\n",
       "</style>\n",
       "<table border=\"1\" class=\"dataframe\">\n",
       "  <thead>\n",
       "    <tr style=\"text-align: right;\">\n",
       "      <th></th>\n",
       "      <th>group</th>\n",
       "      <th>event_date</th>\n",
       "      <th>login</th>\n",
       "      <th>product_cart</th>\n",
       "      <th>product_page</th>\n",
       "      <th>purchase</th>\n",
       "      <th>user_id</th>\n",
       "      <th>conv_login</th>\n",
       "      <th>conv_product_cart</th>\n",
       "      <th>conv_product_page</th>\n",
       "      <th>conv_purchase</th>\n",
       "    </tr>\n",
       "  </thead>\n",
       "  <tbody>\n",
       "    <tr>\n",
       "      <th>0</th>\n",
       "      <td>A</td>\n",
       "      <td>2020-12-07</td>\n",
       "      <td>103</td>\n",
       "      <td>25</td>\n",
       "      <td>66</td>\n",
       "      <td>27</td>\n",
       "      <td>260.0</td>\n",
       "      <td>0.396154</td>\n",
       "      <td>0.096154</td>\n",
       "      <td>0.253846</td>\n",
       "      <td>0.103846</td>\n",
       "    </tr>\n",
       "    <tr>\n",
       "      <th>1</th>\n",
       "      <td>A</td>\n",
       "      <td>2020-12-08</td>\n",
       "      <td>170</td>\n",
       "      <td>45</td>\n",
       "      <td>113</td>\n",
       "      <td>45</td>\n",
       "      <td>395.0</td>\n",
       "      <td>0.430380</td>\n",
       "      <td>0.113924</td>\n",
       "      <td>0.286076</td>\n",
       "      <td>0.113924</td>\n",
       "    </tr>\n",
       "    <tr>\n",
       "      <th>2</th>\n",
       "      <td>A</td>\n",
       "      <td>2020-12-09</td>\n",
       "      <td>227</td>\n",
       "      <td>60</td>\n",
       "      <td>147</td>\n",
       "      <td>64</td>\n",
       "      <td>495.0</td>\n",
       "      <td>0.458586</td>\n",
       "      <td>0.121212</td>\n",
       "      <td>0.296970</td>\n",
       "      <td>0.129293</td>\n",
       "    </tr>\n",
       "    <tr>\n",
       "      <th>3</th>\n",
       "      <td>A</td>\n",
       "      <td>2020-12-10</td>\n",
       "      <td>273</td>\n",
       "      <td>73</td>\n",
       "      <td>171</td>\n",
       "      <td>79</td>\n",
       "      <td>630.0</td>\n",
       "      <td>0.433333</td>\n",
       "      <td>0.115873</td>\n",
       "      <td>0.271429</td>\n",
       "      <td>0.125397</td>\n",
       "    </tr>\n",
       "    <tr>\n",
       "      <th>4</th>\n",
       "      <td>A</td>\n",
       "      <td>2020-12-11</td>\n",
       "      <td>343</td>\n",
       "      <td>95</td>\n",
       "      <td>208</td>\n",
       "      <td>90</td>\n",
       "      <td>749.0</td>\n",
       "      <td>0.457944</td>\n",
       "      <td>0.126836</td>\n",
       "      <td>0.277704</td>\n",
       "      <td>0.120160</td>\n",
       "    </tr>\n",
       "  </tbody>\n",
       "</table>\n",
       "</div>"
      ],
      "text/plain": [
       "  group event_date  login  product_cart  product_page  purchase  user_id  \\\n",
       "0     A 2020-12-07    103            25            66        27    260.0   \n",
       "1     A 2020-12-08    170            45           113        45    395.0   \n",
       "2     A 2020-12-09    227            60           147        64    495.0   \n",
       "3     A 2020-12-10    273            73           171        79    630.0   \n",
       "4     A 2020-12-11    343            95           208        90    749.0   \n",
       "\n",
       "   conv_login  conv_product_cart  conv_product_page  conv_purchase  \n",
       "0    0.396154           0.096154           0.253846       0.103846  \n",
       "1    0.430380           0.113924           0.286076       0.113924  \n",
       "2    0.458586           0.121212           0.296970       0.129293  \n",
       "3    0.433333           0.115873           0.271429       0.125397  \n",
       "4    0.457944           0.126836           0.277704       0.120160  "
      ]
     },
     "metadata": {},
     "output_type": "display_data"
    },
    {
     "data": {
      "text/html": [
       "<div>\n",
       "<style scoped>\n",
       "    .dataframe tbody tr th:only-of-type {\n",
       "        vertical-align: middle;\n",
       "    }\n",
       "\n",
       "    .dataframe tbody tr th {\n",
       "        vertical-align: top;\n",
       "    }\n",
       "\n",
       "    .dataframe thead th {\n",
       "        text-align: right;\n",
       "    }\n",
       "</style>\n",
       "<table border=\"1\" class=\"dataframe\">\n",
       "  <thead>\n",
       "    <tr style=\"text-align: right;\">\n",
       "      <th></th>\n",
       "      <th>group</th>\n",
       "      <th>event_date</th>\n",
       "      <th>login</th>\n",
       "      <th>product_cart</th>\n",
       "      <th>product_page</th>\n",
       "      <th>purchase</th>\n",
       "      <th>user_id</th>\n",
       "      <th>conv_login</th>\n",
       "      <th>conv_product_cart</th>\n",
       "      <th>conv_product_page</th>\n",
       "      <th>conv_purchase</th>\n",
       "    </tr>\n",
       "  </thead>\n",
       "  <tbody>\n",
       "    <tr>\n",
       "      <th>0</th>\n",
       "      <td>B</td>\n",
       "      <td>2020-12-07</td>\n",
       "      <td>114.0</td>\n",
       "      <td>31.0</td>\n",
       "      <td>76.0</td>\n",
       "      <td>47.0</td>\n",
       "      <td>185.0</td>\n",
       "      <td>0.616216</td>\n",
       "      <td>0.167568</td>\n",
       "      <td>0.410811</td>\n",
       "      <td>0.254054</td>\n",
       "    </tr>\n",
       "    <tr>\n",
       "      <th>1</th>\n",
       "      <td>B</td>\n",
       "      <td>2020-12-08</td>\n",
       "      <td>149.0</td>\n",
       "      <td>41.0</td>\n",
       "      <td>89.0</td>\n",
       "      <td>52.0</td>\n",
       "      <td>288.0</td>\n",
       "      <td>0.517361</td>\n",
       "      <td>0.142361</td>\n",
       "      <td>0.309028</td>\n",
       "      <td>0.180556</td>\n",
       "    </tr>\n",
       "    <tr>\n",
       "      <th>2</th>\n",
       "      <td>B</td>\n",
       "      <td>2020-12-09</td>\n",
       "      <td>205.0</td>\n",
       "      <td>58.0</td>\n",
       "      <td>123.0</td>\n",
       "      <td>63.0</td>\n",
       "      <td>360.0</td>\n",
       "      <td>0.569444</td>\n",
       "      <td>0.161111</td>\n",
       "      <td>0.341667</td>\n",
       "      <td>0.175000</td>\n",
       "    </tr>\n",
       "    <tr>\n",
       "      <th>3</th>\n",
       "      <td>B</td>\n",
       "      <td>2020-12-10</td>\n",
       "      <td>234.0</td>\n",
       "      <td>63.0</td>\n",
       "      <td>134.0</td>\n",
       "      <td>70.0</td>\n",
       "      <td>508.0</td>\n",
       "      <td>0.460630</td>\n",
       "      <td>0.124016</td>\n",
       "      <td>0.263780</td>\n",
       "      <td>0.137795</td>\n",
       "    </tr>\n",
       "    <tr>\n",
       "      <th>4</th>\n",
       "      <td>B</td>\n",
       "      <td>2020-12-11</td>\n",
       "      <td>247.0</td>\n",
       "      <td>66.0</td>\n",
       "      <td>140.0</td>\n",
       "      <td>72.0</td>\n",
       "      <td>591.0</td>\n",
       "      <td>0.417936</td>\n",
       "      <td>0.111675</td>\n",
       "      <td>0.236887</td>\n",
       "      <td>0.121827</td>\n",
       "    </tr>\n",
       "  </tbody>\n",
       "</table>\n",
       "</div>"
      ],
      "text/plain": [
       "  group event_date  login  product_cart  product_page  purchase  user_id  \\\n",
       "0     B 2020-12-07  114.0          31.0          76.0      47.0    185.0   \n",
       "1     B 2020-12-08  149.0          41.0          89.0      52.0    288.0   \n",
       "2     B 2020-12-09  205.0          58.0         123.0      63.0    360.0   \n",
       "3     B 2020-12-10  234.0          63.0         134.0      70.0    508.0   \n",
       "4     B 2020-12-11  247.0          66.0         140.0      72.0    591.0   \n",
       "\n",
       "   conv_login  conv_product_cart  conv_product_page  conv_purchase  \n",
       "0    0.616216           0.167568           0.410811       0.254054  \n",
       "1    0.517361           0.142361           0.309028       0.180556  \n",
       "2    0.569444           0.161111           0.341667       0.175000  \n",
       "3    0.460630           0.124016           0.263780       0.137795  \n",
       "4    0.417936           0.111675           0.236887       0.121827  "
      ]
     },
     "metadata": {},
     "output_type": "display_data"
    }
   ],
   "source": [
    "#cumulative conversion for Group A \n",
    "group_A = ab_test.query('group == \"A\"').groupby(['event_name', 'event_date'], as_index=False)['user_id'].nunique()\n",
    "a_test = ab_test.query('group == \"A\"')\n",
    "cumulative_group_A = (\n",
    "    group_A.apply(lambda x: a_test[np.logical_and(a_test['event_name'] == x['event_name'],\n",
    "                                                  a_test['event_date'] <= x['event_date'])]\n",
    "                  .agg({'event_date' : 'max', 'group' : 'max', 'event_name' : 'max', 'user_id':'nunique'}), axis=1)\n",
    ")\n",
    "cumulative_group_A = pd.pivot_table(cumulative_group_A, \n",
    "                                    index=['group','event_date'], \n",
    "                                    columns='event_name', \n",
    "                                    values='user_id',\n",
    "                                    aggfunc='max')\n",
    "\n",
    "cumulative_group_A.reset_index(inplace=True)\n",
    "\n",
    "#cumulative new users\n",
    "cum_new_user_A = (\n",
    "    group_A.apply(lambda x: a_test[a_test['first_date'] <= x['event_date']]\n",
    "                   .agg({'first_date': 'max', 'user_id':'nunique'}), axis=1).drop_duplicates()\n",
    ")\n",
    "\n",
    "cumulative_group_A = pd.merge(cumulative_group_A, \n",
    "                              cum_new_user_A, \n",
    "                              left_on='event_date', \n",
    "                              right_on='first_date',\n",
    "                              how = 'outer')\n",
    "\n",
    "\n",
    "cumulative_group_A.drop('first_date', axis=1, inplace=True)\n",
    "cumulative_group_A.fillna(cum_new_user_A['user_id'].max(), inplace=True)\n",
    "\n",
    "cumulative_group_A[['conv_login', 'conv_product_cart', 'conv_product_page', 'conv_purchase']] = (\n",
    "    cumulative_group_A[['login', 'product_cart', 'product_page', 'purchase']]\n",
    "          .div(cumulative_group_A['user_id'], axis=0)\n",
    ")\n",
    "\n",
    "display(cumulative_group_A.head())\n",
    "\n",
    "#cumulative conversion for Group B\n",
    "group_B = ab_test.query('group == \"B\"').groupby(['event_name', 'event_date'], as_index=False)['user_id'].nunique()\n",
    "b_test = ab_test.query('group == \"B\"')\n",
    "cumulative_group_B = (\n",
    "    group_B.apply(lambda x: b_test[np.logical_and(b_test['event_name'] == x['event_name'],\n",
    "                                                  b_test['event_date'] <= x['event_date'])]\n",
    "                  .agg({'event_date' : 'max', 'group' : 'max', 'event_name' : 'max', 'user_id':'nunique'}), axis=1)\n",
    ")\n",
    "\n",
    "cumulative_group_B = pd.pivot_table(cumulative_group_B, \n",
    "                                    index=['group','event_date'], \n",
    "                                    columns='event_name', \n",
    "                                    values='user_id',\n",
    "                                    aggfunc='max')\n",
    "\n",
    "cumulative_group_B.reset_index(inplace=True)\n",
    "\n",
    "#cumulative new users\n",
    "cum_new_user_B = (\n",
    "    group_B.apply(lambda x: b_test[b_test['first_date'] <= x['event_date']]\n",
    "                   .agg({'first_date': 'max', 'user_id':'nunique'}), axis=1).drop_duplicates()\n",
    ")\n",
    "\n",
    "cumulative_group_B = pd.merge(cumulative_group_B, \n",
    "                              cum_new_user_B, \n",
    "                              left_on='event_date', \n",
    "                              right_on='first_date',\n",
    "                              how = 'outer')\n",
    "\n",
    "\n",
    "cumulative_group_B.drop('first_date', axis=1, inplace=True)\n",
    "cumulative_group_B['user_id'] = cumulative_group_B['user_id'].fillna(cum_new_user_B['user_id'].max())\n",
    "purchase_max = cumulative_group_B['purchase'].max()\n",
    "cumulative_group_B['purchase'] = cumulative_group_B['purchase'].fillna(purchase_max)\n",
    "\n",
    "cumulative_group_B[['conv_login', 'conv_product_cart', 'conv_product_page', 'conv_purchase']] = (\n",
    "    cumulative_group_B[['login', 'product_cart', 'product_page', 'purchase']]\n",
    "    .div(cumulative_group_B['user_id'], axis=0)\n",
    ")\n",
    "display(cumulative_group_B.head())"
   ]
  },
  {
   "cell_type": "code",
   "execution_count": 43,
   "id": "d964d759",
   "metadata": {
    "scrolled": true
   },
   "outputs": [
    {
     "data": {
      "image/png": "[encoded data removed]",
      "text/plain": [
       "<Figure size 1080x576 with 4 Axes>"
      ]
     },
     "metadata": {
      "needs_background": "light"
     },
     "output_type": "display_data"
    }
   ],
   "source": [
    "# cumulative user conversion by group, diagram\n",
    "warnings.filterwarnings(\"ignore\", category=UserWarning)\n",
    "fig, ax = plt.subplots(2,2, figsize = (15, 8))\n",
    "for number, column in enumerate(['conv_login', 'conv_product_cart', 'conv_product_page', 'conv_purchase']):\n",
    "    cumulative_group_A.plot(x='event_date', y=column, label='A', ax=plt.subplot(2, 2, number+1), grid=True)\n",
    "    cumulative_group_B.plot(x='event_date', y=column, label='B', ax=plt.subplot(2, 2, number+1), grid=True)\n",
    "    plt.legend()\n",
    "    plt.title(f'Cumulative user conversion - {column}')\n",
    "    plt.xticks(rotation=0)\n",
    "    plt.xlabel('')\n",
    "plt.show()"
   ]
  },
  {
   "cell_type": "markdown",
   "id": "83c3d58d",
   "metadata": {},
   "source": [
    "Group A conversion jumps around December 14th across metrics, while B does not show that dynamics. This is not typical and might be connected to some outside factors\n",
    "Conversion across metrics in the conrol group A is around 2x of the test group B"
   ]
  },
  {
   "cell_type": "code",
   "execution_count": 44,
   "id": "1275c8f3",
   "metadata": {
    "scrolled": true
   },
   "outputs": [
    {
     "data": {
      "image/png": "[encoded data removed]",
      "text/plain": [
       "<Figure size 1080x576 with 4 Axes>"
      ]
     },
     "metadata": {
      "needs_background": "light"
     },
     "output_type": "display_data"
    }
   ],
   "source": [
    "# the cumulative user conversion difference of group B to group A\n",
    "fig, ax = plt.subplots(2,2, figsize = (15, 8))\n",
    "for number, column in enumerate(['conv_login', 'conv_product_cart', 'conv_product_page', 'conv_purchase']):\n",
    "    plt.plot(cumulative_group_B['event_date'], cumulative_group_B[column]/cumulative_group_A[column]-1)\n",
    "    plt.title(column)\n",
    "    plt.xticks(rotation=0)\n",
    "    plt.subplot(2,2,number+1)\n",
    "    plt.xlabel('')\n",
    "plt.suptitle('The relative increase in the conversion rate of group B relative to group A')\n",
    "plt.show()"
   ]
  },
  {
   "cell_type": "markdown",
   "id": "c5a7f7d2",
   "metadata": {},
   "source": [
    "The ratio relative to the conversion rate in the groups is negative, it decreases throughout the test. This is most likely due to the fact that the groups were not formed correctly. And an additional unaccounted-for factor affects user behavior."
   ]
  },
  {
   "cell_type": "markdown",
   "id": "657ce35d",
   "metadata": {},
   "source": [
    "## A/B test results evaluation  <a id=\"AB_test\"></a>"
   ]
  },
  {
   "cell_type": "markdown",
   "id": "9b3a9493",
   "metadata": {},
   "source": [
    "H0: no difference in conversion\n",
    "\n",
    "H1: conversion is higher by at least 10%:\n",
    "- to product page `product_page`,\n",
    "- to product cart — `product_cart`,\n",
    "- to purchase — `purchase`.\n",
    "\n",
    "We need to make three tests"
   ]
  },
  {
   "cell_type": "code",
   "execution_count": 45,
   "id": "f00e5177",
   "metadata": {
    "scrolled": true
   },
   "outputs": [
    {
     "name": "stdout",
     "output_type": "stream",
     "text": [
      "p-value:  0.23939964313381212\n",
      "It was not possible to reject the null hypothesis, there is no reason to consider the shares different\n",
      "--------------------\n",
      "p-value:  0.03902757725441064\n",
      "It was not possible to reject the null hypothesis, there is no reason to consider the shares different\n",
      "--------------------\n",
      "p-value:  0.22722789211785388\n",
      "It was not possible to reject the null hypothesis, there is no reason to consider the shares different\n",
      "--------------------\n"
     ]
    }
   ],
   "source": [
    "alpha = 0.05/3 #added Bonferroni correction for multiple comparisons\n",
    "\n",
    "for column in ['product_cart', 'product_page', 'purchase']: \n",
    "    p1 = cumulative_group_A[column].max()/cumulative_group_A['user_id'].max()\n",
    "    p2 = cumulative_group_B[column].max()/cumulative_group_B['user_id'].max()\n",
    "    p_combined = ((cumulative_group_A[column].max() + cumulative_group_B[column].max()) / \n",
    "                  (cumulative_group_A['user_id'].max() + cumulative_group_B['user_id'].max()))\n",
    "    \n",
    "    difference = p1 - p2\n",
    "    \n",
    "    z_value = (\n",
    "        difference / mth.sqrt(p_combined * (1-p_combined) * \n",
    "                              (1/cumulative_group_A['user_id'].count() + 1/cumulative_group_B['user_id'].count()))\n",
    "    )\n",
    "    distr = st.norm(0, 1)\n",
    "    p_value = (1-distr.cdf(abs(z_value)))*2\n",
    "\n",
    "    print('p-value: ', p_value)\n",
    "\n",
    "    if p_value < alpha:\n",
    "        print('Reject the null hypothesis: there is a significant difference between the shares')\n",
    "    else:\n",
    "        print('It was not possible to reject the null hypothesis, there is no reason to consider the shares different')\n",
    "    print('-'*20)"
   ]
  },
  {
   "cell_type": "markdown",
   "id": "3490608a",
   "metadata": {},
   "source": [
    "Differences in conversions across all metrics are not statistically significant (at a significance level of 5%)."
   ]
  },
  {
   "cell_type": "markdown",
   "id": "917ae312",
   "metadata": {},
   "source": [
    "## Conclusion <a id=\"conclusion\"></a>"
   ]
  },
  {
   "cell_type": "markdown",
   "id": "8c6c665f",
   "metadata": {},
   "source": [
    "It should be noted that the test groups were not evenly formed:\n",
    "\n",
    "1. The groups differ in size (Group A is 33% larger than Group B).\n",
    "2. There is a significant difference in the median number of events per user.\n",
    "3. The daily event dynamics between the groups also vary significantly. On December 14 and 21, there was an abnormal increase in Group A’s events per user and user conversion (across all metrics).\n",
    "\n",
    "Therefore, the test results cannot be considered valid. Additionally, the differences in conversions across all metrics are not statistically significant (at a 5% significance level)."
   ]
  },
  {
   "cell_type": "code",
   "execution_count": null,
   "id": "714730ec",
   "metadata": {},
   "outputs": [],
   "source": []
  }
 ],
 "metadata": {
  "ExecuteTimeLog": [
   {
    "duration": 44,
    "start_time": "2022-11-17T07:22:07.949Z"
   },
   {
    "duration": 1276,
    "start_time": "2022-11-17T07:22:14.745Z"
   },
   {
    "duration": 954,
    "start_time": "2022-11-17T07:22:16.023Z"
   },
   {
    "duration": 105,
    "start_time": "2022-11-17T07:22:16.979Z"
   },
   {
    "duration": 117,
    "start_time": "2022-11-17T07:22:17.085Z"
   },
   {
    "duration": 269,
    "start_time": "2022-11-17T07:22:17.204Z"
   },
   {
    "duration": 189,
    "start_time": "2022-11-17T07:22:17.475Z"
   },
   {
    "duration": 47,
    "start_time": "2022-11-17T07:22:17.667Z"
   },
   {
    "duration": 50,
    "start_time": "2022-11-17T07:22:17.716Z"
   },
   {
    "duration": 46,
    "start_time": "2022-11-17T07:22:17.768Z"
   },
   {
    "duration": 82,
    "start_time": "2022-11-17T07:23:12.963Z"
   },
   {
    "duration": 29,
    "start_time": "2022-11-17T07:23:54.241Z"
   },
   {
    "duration": 14,
    "start_time": "2022-11-17T07:24:21.964Z"
   },
   {
    "duration": 28,
    "start_time": "2022-11-17T07:24:55.148Z"
   },
   {
    "duration": 12,
    "start_time": "2022-11-17T07:27:44.177Z"
   },
   {
    "duration": 22,
    "start_time": "2022-11-17T07:27:58.976Z"
   },
   {
    "duration": 15,
    "start_time": "2022-11-17T07:28:17.552Z"
   },
   {
    "duration": 22,
    "start_time": "2022-11-17T07:29:16.834Z"
   },
   {
    "duration": 15,
    "start_time": "2022-11-17T07:29:45.293Z"
   },
   {
    "duration": 14,
    "start_time": "2022-11-17T07:30:34.775Z"
   },
   {
    "duration": 25,
    "start_time": "2022-11-17T07:30:42.683Z"
   },
   {
    "duration": 10,
    "start_time": "2022-11-17T07:30:53.433Z"
   },
   {
    "duration": 3,
    "start_time": "2022-11-17T07:34:08.810Z"
   },
   {
    "duration": 543,
    "start_time": "2022-11-17T07:34:08.816Z"
   },
   {
    "duration": 112,
    "start_time": "2022-11-17T07:34:09.360Z"
   },
   {
    "duration": 106,
    "start_time": "2022-11-17T07:34:09.475Z"
   },
   {
    "duration": 248,
    "start_time": "2022-11-17T07:34:09.583Z"
   },
   {
    "duration": 174,
    "start_time": "2022-11-17T07:34:09.833Z"
   },
   {
    "duration": 44,
    "start_time": "2022-11-17T07:34:10.009Z"
   },
   {
    "duration": 35,
    "start_time": "2022-11-17T07:34:10.055Z"
   },
   {
    "duration": 9,
    "start_time": "2022-11-17T07:34:17.882Z"
   },
   {
    "duration": 12,
    "start_time": "2022-11-17T07:36:57.432Z"
   },
   {
    "duration": 22,
    "start_time": "2022-11-17T07:37:13.129Z"
   },
   {
    "duration": 9,
    "start_time": "2022-11-17T07:43:06.982Z"
   },
   {
    "duration": 8,
    "start_time": "2022-11-17T07:43:29.564Z"
   },
   {
    "duration": 10,
    "start_time": "2022-11-17T07:43:37.074Z"
   },
   {
    "duration": 12,
    "start_time": "2022-11-17T07:49:12.132Z"
   },
   {
    "duration": 11,
    "start_time": "2022-11-17T07:49:48.205Z"
   },
   {
    "duration": 10,
    "start_time": "2022-11-17T07:50:47.496Z"
   },
   {
    "duration": 19,
    "start_time": "2022-11-17T07:51:41.939Z"
   },
   {
    "duration": 11,
    "start_time": "2022-11-17T07:52:13.438Z"
   },
   {
    "duration": 9,
    "start_time": "2022-11-17T07:58:54.164Z"
   },
   {
    "duration": 23,
    "start_time": "2022-11-17T08:04:15.385Z"
   },
   {
    "duration": 20,
    "start_time": "2022-11-17T08:04:46.987Z"
   },
   {
    "duration": 232,
    "start_time": "2022-11-17T08:05:18.438Z"
   },
   {
    "duration": 230,
    "start_time": "2022-11-17T08:05:36.189Z"
   },
   {
    "duration": 20,
    "start_time": "2022-11-17T08:07:08.021Z"
   },
   {
    "duration": 19,
    "start_time": "2022-11-17T08:08:35.651Z"
   },
   {
    "duration": 19,
    "start_time": "2022-11-17T08:09:14.423Z"
   },
   {
    "duration": 103,
    "start_time": "2022-11-17T08:10:39.757Z"
   },
   {
    "duration": 72,
    "start_time": "2022-11-17T08:11:11.455Z"
   },
   {
    "duration": 4,
    "start_time": "2022-11-17T08:11:28.001Z"
   },
   {
    "duration": 72,
    "start_time": "2022-11-17T08:11:32.037Z"
   },
   {
    "duration": 7,
    "start_time": "2022-11-17T08:11:43.447Z"
   },
   {
    "duration": 9,
    "start_time": "2022-11-17T08:12:43.251Z"
   },
   {
    "duration": 12,
    "start_time": "2022-11-17T08:13:01.418Z"
   },
   {
    "duration": 11,
    "start_time": "2022-11-17T08:13:51.448Z"
   },
   {
    "duration": 17,
    "start_time": "2022-11-17T08:14:48.657Z"
   },
   {
    "duration": 19,
    "start_time": "2022-11-17T08:15:36.213Z"
   },
   {
    "duration": 18,
    "start_time": "2022-11-17T08:15:50.967Z"
   },
   {
    "duration": 18,
    "start_time": "2022-11-17T08:16:15.586Z"
   },
   {
    "duration": 4,
    "start_time": "2022-11-17T08:16:24.972Z"
   },
   {
    "duration": 561,
    "start_time": "2022-11-17T08:16:24.985Z"
   },
   {
    "duration": 119,
    "start_time": "2022-11-17T08:16:25.548Z"
   },
   {
    "duration": 117,
    "start_time": "2022-11-17T08:16:25.669Z"
   },
   {
    "duration": 282,
    "start_time": "2022-11-17T08:16:25.788Z"
   },
   {
    "duration": 172,
    "start_time": "2022-11-17T08:16:26.073Z"
   },
   {
    "duration": 34,
    "start_time": "2022-11-17T08:16:26.251Z"
   },
   {
    "duration": 40,
    "start_time": "2022-11-17T08:16:26.287Z"
   },
   {
    "duration": 28,
    "start_time": "2022-11-17T08:16:26.328Z"
   },
   {
    "duration": 24,
    "start_time": "2022-11-17T08:16:26.357Z"
   },
   {
    "duration": 23,
    "start_time": "2022-11-17T08:21:46.821Z"
   },
   {
    "duration": 34,
    "start_time": "2022-11-17T08:24:27.677Z"
   },
   {
    "duration": 29,
    "start_time": "2022-11-17T08:25:09.622Z"
   },
   {
    "duration": 27,
    "start_time": "2022-11-17T08:25:19.278Z"
   },
   {
    "duration": 27,
    "start_time": "2022-11-17T08:26:00.696Z"
   },
   {
    "duration": 27,
    "start_time": "2022-11-17T08:26:14.000Z"
   },
   {
    "duration": 30,
    "start_time": "2022-11-17T08:26:26.957Z"
   },
   {
    "duration": 23,
    "start_time": "2022-11-17T08:26:57.513Z"
   },
   {
    "duration": 23,
    "start_time": "2022-11-17T08:27:31.771Z"
   },
   {
    "duration": 29,
    "start_time": "2022-11-17T08:28:05.624Z"
   },
   {
    "duration": 25,
    "start_time": "2022-11-17T08:28:13.171Z"
   },
   {
    "duration": 28,
    "start_time": "2022-11-17T08:30:09.156Z"
   },
   {
    "duration": 28,
    "start_time": "2022-11-17T08:30:27.715Z"
   },
   {
    "duration": 26,
    "start_time": "2022-11-17T08:31:03.501Z"
   },
   {
    "duration": 1323,
    "start_time": "2022-11-17T11:19:05.827Z"
   },
   {
    "duration": 2014,
    "start_time": "2022-11-17T11:19:07.152Z"
   },
   {
    "duration": 111,
    "start_time": "2022-11-17T11:19:09.168Z"
   },
   {
    "duration": 122,
    "start_time": "2022-11-17T11:19:09.282Z"
   },
   {
    "duration": 271,
    "start_time": "2022-11-17T11:19:09.406Z"
   },
   {
    "duration": 175,
    "start_time": "2022-11-17T11:19:09.679Z"
   },
   {
    "duration": 42,
    "start_time": "2022-11-17T11:19:09.856Z"
   },
   {
    "duration": 49,
    "start_time": "2022-11-17T11:19:09.900Z"
   },
   {
    "duration": 24,
    "start_time": "2022-11-17T11:19:09.950Z"
   },
   {
    "duration": 25,
    "start_time": "2022-11-17T11:19:09.976Z"
   },
   {
    "duration": 36,
    "start_time": "2022-11-17T11:19:10.002Z"
   },
   {
    "duration": 18,
    "start_time": "2022-11-17T11:19:10.039Z"
   },
   {
    "duration": 10,
    "start_time": "2022-11-17T11:19:10.058Z"
   },
   {
    "duration": 245,
    "start_time": "2022-11-17T11:19:10.069Z"
   },
   {
    "duration": 135,
    "start_time": "2022-11-17T11:19:10.316Z"
   },
   {
    "duration": 278,
    "start_time": "2022-11-17T11:19:10.453Z"
   },
   {
    "duration": 1091,
    "start_time": "2022-11-17T11:19:10.735Z"
   },
   {
    "duration": 1009,
    "start_time": "2022-11-17T11:19:11.828Z"
   },
   {
    "duration": 603,
    "start_time": "2022-11-17T11:19:12.839Z"
   },
   {
    "duration": 13,
    "start_time": "2022-11-17T11:19:13.444Z"
   },
   {
    "duration": 18,
    "start_time": "2022-11-17T11:20:35.383Z"
   },
   {
    "duration": 61,
    "start_time": "2022-11-17T11:22:46.716Z"
   },
   {
    "duration": 112,
    "start_time": "2022-11-17T11:23:04.421Z"
   },
   {
    "duration": 23,
    "start_time": "2022-11-17T11:23:26.413Z"
   },
   {
    "duration": 17,
    "start_time": "2022-11-17T11:23:57.867Z"
   },
   {
    "duration": 19,
    "start_time": "2022-11-17T11:25:30.360Z"
   },
   {
    "duration": 20,
    "start_time": "2022-11-17T11:26:02.252Z"
   },
   {
    "duration": 18,
    "start_time": "2022-11-17T11:26:09.136Z"
   },
   {
    "duration": 18,
    "start_time": "2022-11-17T11:27:10.826Z"
   },
   {
    "duration": 20,
    "start_time": "2022-11-17T11:27:45.869Z"
   },
   {
    "duration": 22,
    "start_time": "2022-11-17T11:32:26.264Z"
   },
   {
    "duration": 17,
    "start_time": "2022-11-17T11:32:30.819Z"
   },
   {
    "duration": 28,
    "start_time": "2022-11-17T11:33:16.006Z"
   },
   {
    "duration": 18,
    "start_time": "2022-11-17T11:34:07.465Z"
   },
   {
    "duration": 10,
    "start_time": "2022-11-17T11:34:54.173Z"
   },
   {
    "duration": 21,
    "start_time": "2022-11-17T11:35:16.338Z"
   },
   {
    "duration": 20,
    "start_time": "2022-11-17T11:36:13.785Z"
   },
   {
    "duration": 19,
    "start_time": "2022-11-17T11:36:19.552Z"
   },
   {
    "duration": 14,
    "start_time": "2022-11-17T11:36:42.948Z"
   },
   {
    "duration": 18,
    "start_time": "2022-11-17T11:37:34.925Z"
   },
   {
    "duration": 18,
    "start_time": "2022-11-17T11:37:54.175Z"
   },
   {
    "duration": 23,
    "start_time": "2022-11-17T11:41:40.454Z"
   },
   {
    "duration": 12,
    "start_time": "2022-11-17T11:41:54.470Z"
   },
   {
    "duration": 22,
    "start_time": "2022-11-17T11:43:56.850Z"
   },
   {
    "duration": 34,
    "start_time": "2022-11-17T11:45:32.545Z"
   },
   {
    "duration": 22,
    "start_time": "2022-11-17T11:47:14.032Z"
   },
   {
    "duration": 1084,
    "start_time": "2022-11-17T11:47:39.181Z"
   },
   {
    "duration": 585,
    "start_time": "2022-11-17T11:47:40.267Z"
   },
   {
    "duration": 112,
    "start_time": "2022-11-17T11:47:40.854Z"
   },
   {
    "duration": 124,
    "start_time": "2022-11-17T11:47:40.968Z"
   },
   {
    "duration": 276,
    "start_time": "2022-11-17T11:47:41.094Z"
   },
   {
    "duration": 181,
    "start_time": "2022-11-17T11:47:41.372Z"
   },
   {
    "duration": 50,
    "start_time": "2022-11-17T11:47:41.555Z"
   },
   {
    "duration": 49,
    "start_time": "2022-11-17T11:47:41.607Z"
   },
   {
    "duration": 28,
    "start_time": "2022-11-17T11:47:41.657Z"
   },
   {
    "duration": 12,
    "start_time": "2022-11-17T11:47:41.687Z"
   },
   {
    "duration": 51,
    "start_time": "2022-11-17T11:47:41.701Z"
   },
   {
    "duration": 19,
    "start_time": "2022-11-17T11:47:41.754Z"
   },
   {
    "duration": 15,
    "start_time": "2022-11-17T11:47:41.774Z"
   },
   {
    "duration": 285,
    "start_time": "2022-11-17T11:47:41.791Z"
   },
   {
    "duration": 139,
    "start_time": "2022-11-17T11:47:42.078Z"
   },
   {
    "duration": 323,
    "start_time": "2022-11-17T11:47:42.219Z"
   },
   {
    "duration": 1271,
    "start_time": "2022-11-17T11:47:42.544Z"
   },
   {
    "duration": 1001,
    "start_time": "2022-11-17T11:47:43.816Z"
   },
   {
    "duration": 643,
    "start_time": "2022-11-17T11:47:44.819Z"
   },
   {
    "duration": 13,
    "start_time": "2022-11-17T11:47:45.464Z"
   },
   {
    "duration": 52,
    "start_time": "2022-11-17T11:53:29.816Z"
   },
   {
    "duration": 267,
    "start_time": "2022-11-17T11:53:36.721Z"
   },
   {
    "duration": 413,
    "start_time": "2022-11-17T11:53:54.462Z"
   },
   {
    "duration": 52,
    "start_time": "2022-11-17T11:54:33.999Z"
   },
   {
    "duration": 47,
    "start_time": "2022-11-17T11:54:39.165Z"
   },
   {
    "duration": 375,
    "start_time": "2022-11-17T11:54:47.563Z"
   },
   {
    "duration": 404,
    "start_time": "2022-11-17T11:55:16.604Z"
   },
   {
    "duration": 446,
    "start_time": "2022-11-17T11:56:13.541Z"
   },
   {
    "duration": 387,
    "start_time": "2022-11-17T11:57:21.429Z"
   },
   {
    "duration": 341,
    "start_time": "2022-11-17T11:58:17.197Z"
   },
   {
    "duration": 352,
    "start_time": "2022-11-17T11:58:31.323Z"
   },
   {
    "duration": 433,
    "start_time": "2022-11-17T11:59:03.729Z"
   },
   {
    "duration": 376,
    "start_time": "2022-11-17T12:00:03.594Z"
   },
   {
    "duration": 566,
    "start_time": "2022-11-17T12:00:29.343Z"
   },
   {
    "duration": 476,
    "start_time": "2022-11-17T12:00:38.091Z"
   },
   {
    "duration": 522,
    "start_time": "2022-11-17T12:01:09.402Z"
   },
   {
    "duration": 327,
    "start_time": "2022-11-17T12:02:47.419Z"
   },
   {
    "duration": 247,
    "start_time": "2022-11-17T12:03:37.804Z"
   },
   {
    "duration": 228,
    "start_time": "2022-11-17T12:04:08.093Z"
   },
   {
    "duration": 581,
    "start_time": "2022-11-17T12:04:22.580Z"
   },
   {
    "duration": 417,
    "start_time": "2022-11-17T12:04:34.478Z"
   },
   {
    "duration": 467,
    "start_time": "2022-11-17T12:05:40.697Z"
   },
   {
    "duration": 569,
    "start_time": "2022-11-17T12:06:32.046Z"
   },
   {
    "duration": 473,
    "start_time": "2022-11-17T12:06:58.774Z"
   },
   {
    "duration": 474,
    "start_time": "2022-11-17T12:07:27.784Z"
   },
   {
    "duration": 477,
    "start_time": "2022-11-17T12:09:49.873Z"
   },
   {
    "duration": 483,
    "start_time": "2022-11-17T12:11:37.731Z"
   },
   {
    "duration": 481,
    "start_time": "2022-11-17T12:11:57.887Z"
   },
   {
    "duration": 417,
    "start_time": "2022-11-17T12:12:12.854Z"
   },
   {
    "duration": 406,
    "start_time": "2022-11-17T12:15:24.466Z"
   },
   {
    "duration": 405,
    "start_time": "2022-11-17T12:15:40.737Z"
   },
   {
    "duration": 541,
    "start_time": "2022-11-17T12:15:54.896Z"
   },
   {
    "duration": 470,
    "start_time": "2022-11-17T12:17:14.805Z"
   },
   {
    "duration": 328,
    "start_time": "2022-11-17T12:21:11.103Z"
   },
   {
    "duration": 440,
    "start_time": "2022-11-17T12:22:07.708Z"
   },
   {
    "duration": 1019,
    "start_time": "2022-11-17T12:23:15.397Z"
   },
   {
    "duration": 487,
    "start_time": "2022-11-17T12:27:05.035Z"
   },
   {
    "duration": 1035,
    "start_time": "2022-11-17T12:29:17.072Z"
   },
   {
    "duration": 53,
    "start_time": "2022-11-17T12:31:02.505Z"
   },
   {
    "duration": 4,
    "start_time": "2022-11-17T12:31:09.179Z"
   },
   {
    "duration": 1065,
    "start_time": "2022-11-17T12:31:27.336Z"
   },
   {
    "duration": 697,
    "start_time": "2022-11-17T12:32:22.113Z"
   },
   {
    "duration": 1078,
    "start_time": "2022-11-17T12:32:39.719Z"
   },
   {
    "duration": 3,
    "start_time": "2022-11-17T12:33:13.284Z"
   },
   {
    "duration": 13,
    "start_time": "2022-11-17T12:33:44.233Z"
   },
   {
    "duration": 15,
    "start_time": "2022-11-17T12:34:40.980Z"
   },
   {
    "duration": 3,
    "start_time": "2022-11-17T12:34:51.713Z"
   },
   {
    "duration": 634,
    "start_time": "2022-11-17T12:34:51.725Z"
   },
   {
    "duration": 190,
    "start_time": "2022-11-17T12:34:52.361Z"
   },
   {
    "duration": 174,
    "start_time": "2022-11-17T12:34:52.553Z"
   },
   {
    "duration": 286,
    "start_time": "2022-11-17T12:34:52.734Z"
   },
   {
    "duration": 188,
    "start_time": "2022-11-17T12:34:53.022Z"
   },
   {
    "duration": 50,
    "start_time": "2022-11-17T12:34:57.984Z"
   },
   {
    "duration": 16,
    "start_time": "2022-11-17T12:35:07.591Z"
   },
   {
    "duration": 4,
    "start_time": "2022-11-17T12:35:15.576Z"
   },
   {
    "duration": 730,
    "start_time": "2022-11-17T12:35:15.582Z"
   },
   {
    "duration": 157,
    "start_time": "2022-11-17T12:35:16.314Z"
   },
   {
    "duration": 132,
    "start_time": "2022-11-17T12:35:16.474Z"
   },
   {
    "duration": 385,
    "start_time": "2022-11-17T12:35:16.609Z"
   },
   {
    "duration": 206,
    "start_time": "2022-11-17T12:35:16.997Z"
   },
   {
    "duration": 70,
    "start_time": "2022-11-17T12:35:17.205Z"
   },
   {
    "duration": 24,
    "start_time": "2022-11-17T12:36:57.372Z"
   },
   {
    "duration": 3,
    "start_time": "2022-11-17T12:37:02.170Z"
   },
   {
    "duration": 675,
    "start_time": "2022-11-17T12:37:02.178Z"
   },
   {
    "duration": 119,
    "start_time": "2022-11-17T12:37:02.855Z"
   },
   {
    "duration": 159,
    "start_time": "2022-11-17T12:37:02.976Z"
   },
   {
    "duration": 270,
    "start_time": "2022-11-17T12:37:03.137Z"
   },
   {
    "duration": 184,
    "start_time": "2022-11-17T12:37:03.409Z"
   },
   {
    "duration": 64,
    "start_time": "2022-11-17T12:37:06.798Z"
   },
   {
    "duration": 139,
    "start_time": "2022-11-17T12:41:25.927Z"
   },
   {
    "duration": 58,
    "start_time": "2022-11-17T12:41:50.223Z"
   },
   {
    "duration": 25,
    "start_time": "2022-11-17T12:44:32.076Z"
   },
   {
    "duration": 3,
    "start_time": "2022-11-17T12:44:45.425Z"
   },
   {
    "duration": 626,
    "start_time": "2022-11-17T12:44:45.434Z"
   },
   {
    "duration": 116,
    "start_time": "2022-11-17T12:44:46.062Z"
   },
   {
    "duration": 124,
    "start_time": "2022-11-17T12:44:46.180Z"
   },
   {
    "duration": 288,
    "start_time": "2022-11-17T12:44:46.306Z"
   },
   {
    "duration": 198,
    "start_time": "2022-11-17T12:44:46.596Z"
   },
   {
    "duration": 69,
    "start_time": "2022-11-17T12:44:46.796Z"
   },
   {
    "duration": 40,
    "start_time": "2022-11-17T12:44:46.867Z"
   },
   {
    "duration": 47,
    "start_time": "2022-11-17T12:44:46.909Z"
   },
   {
    "duration": 12,
    "start_time": "2022-11-17T12:44:46.957Z"
   },
   {
    "duration": 23,
    "start_time": "2022-11-17T12:44:46.972Z"
   },
   {
    "duration": 45,
    "start_time": "2022-11-17T12:44:46.997Z"
   },
   {
    "duration": 13,
    "start_time": "2022-11-17T12:44:47.043Z"
   },
   {
    "duration": 439,
    "start_time": "2022-11-17T12:44:47.058Z"
   },
   {
    "duration": 128,
    "start_time": "2022-11-17T12:44:47.499Z"
   },
   {
    "duration": 275,
    "start_time": "2022-11-17T12:44:47.629Z"
   },
   {
    "duration": 123,
    "start_time": "2022-11-17T12:45:40.855Z"
   },
   {
    "duration": 21,
    "start_time": "2022-11-17T12:46:09.053Z"
   },
   {
    "duration": 55,
    "start_time": "2022-11-17T12:47:13.740Z"
   },
   {
    "duration": 9,
    "start_time": "2022-11-17T12:47:28.795Z"
   },
   {
    "duration": 9,
    "start_time": "2022-11-17T12:47:45.030Z"
   },
   {
    "duration": 1108,
    "start_time": "2022-11-17T12:47:58.730Z"
   },
   {
    "duration": 1223,
    "start_time": "2022-11-17T12:49:38.941Z"
   },
   {
    "duration": 1092,
    "start_time": "2022-11-17T12:50:06.682Z"
   },
   {
    "duration": 576,
    "start_time": "2022-11-17T12:50:07.776Z"
   },
   {
    "duration": 119,
    "start_time": "2022-11-17T12:50:08.354Z"
   },
   {
    "duration": 126,
    "start_time": "2022-11-17T12:50:08.474Z"
   },
   {
    "duration": 295,
    "start_time": "2022-11-17T12:50:08.602Z"
   },
   {
    "duration": 188,
    "start_time": "2022-11-17T12:50:08.898Z"
   },
   {
    "duration": 67,
    "start_time": "2022-11-17T12:50:09.088Z"
   },
   {
    "duration": 38,
    "start_time": "2022-11-17T12:50:09.157Z"
   },
   {
    "duration": 47,
    "start_time": "2022-11-17T12:50:09.197Z"
   },
   {
    "duration": 12,
    "start_time": "2022-11-17T12:50:09.245Z"
   },
   {
    "duration": 18,
    "start_time": "2022-11-17T12:50:09.259Z"
   },
   {
    "duration": 28,
    "start_time": "2022-11-17T12:50:09.279Z"
   },
   {
    "duration": 29,
    "start_time": "2022-11-17T12:50:09.309Z"
   },
   {
    "duration": 455,
    "start_time": "2022-11-17T12:50:09.340Z"
   },
   {
    "duration": 138,
    "start_time": "2022-11-17T12:50:09.797Z"
   },
   {
    "duration": 275,
    "start_time": "2022-11-17T12:50:09.937Z"
   },
   {
    "duration": 29,
    "start_time": "2022-11-17T12:50:10.214Z"
   },
   {
    "duration": 1180,
    "start_time": "2022-11-17T12:50:10.244Z"
   },
   {
    "duration": 1071,
    "start_time": "2022-11-17T12:50:11.426Z"
   },
   {
    "duration": 699,
    "start_time": "2022-11-17T12:50:12.499Z"
   },
   {
    "duration": 13,
    "start_time": "2022-11-17T12:50:13.200Z"
   },
   {
    "duration": 1781,
    "start_time": "2022-11-17T12:54:28.158Z"
   },
   {
    "duration": 513,
    "start_time": "2022-11-17T12:55:59.763Z"
   },
   {
    "duration": 375,
    "start_time": "2022-11-17T12:57:13.511Z"
   },
   {
    "duration": 617,
    "start_time": "2022-11-17T12:57:26.801Z"
   },
   {
    "duration": 558,
    "start_time": "2022-11-17T12:57:39.223Z"
   },
   {
    "duration": 635,
    "start_time": "2022-11-17T12:58:13.676Z"
   },
   {
    "duration": 555,
    "start_time": "2022-11-17T12:58:18.536Z"
   },
   {
    "duration": 1061,
    "start_time": "2022-11-17T12:58:47.533Z"
   },
   {
    "duration": 11,
    "start_time": "2022-11-17T12:59:41.829Z"
   },
   {
    "duration": 3,
    "start_time": "2022-11-17T12:59:52.900Z"
   },
   {
    "duration": 1180,
    "start_time": "2022-11-17T13:00:01.659Z"
   },
   {
    "duration": 966,
    "start_time": "2022-11-17T13:00:12.561Z"
   },
   {
    "duration": 1174,
    "start_time": "2022-11-17T13:00:41.774Z"
   },
   {
    "duration": 597,
    "start_time": "2022-11-17T13:00:42.950Z"
   },
   {
    "duration": 123,
    "start_time": "2022-11-17T13:00:43.549Z"
   },
   {
    "duration": 127,
    "start_time": "2022-11-17T13:00:43.674Z"
   },
   {
    "duration": 278,
    "start_time": "2022-11-17T13:00:43.804Z"
   },
   {
    "duration": 193,
    "start_time": "2022-11-17T13:00:44.084Z"
   },
   {
    "duration": 66,
    "start_time": "2022-11-17T13:00:44.279Z"
   },
   {
    "duration": 37,
    "start_time": "2022-11-17T13:00:44.347Z"
   },
   {
    "duration": 58,
    "start_time": "2022-11-17T13:00:44.386Z"
   },
   {
    "duration": 18,
    "start_time": "2022-11-17T13:00:44.446Z"
   },
   {
    "duration": 62,
    "start_time": "2022-11-17T13:00:44.466Z"
   },
   {
    "duration": 45,
    "start_time": "2022-11-17T13:00:44.530Z"
   },
   {
    "duration": 28,
    "start_time": "2022-11-17T13:00:44.577Z"
   },
   {
    "duration": 458,
    "start_time": "2022-11-17T13:00:44.608Z"
   },
   {
    "duration": 136,
    "start_time": "2022-11-17T13:00:45.068Z"
   },
   {
    "duration": 278,
    "start_time": "2022-11-17T13:00:45.206Z"
   },
   {
    "duration": 20,
    "start_time": "2022-11-17T13:00:45.486Z"
   },
   {
    "duration": 1254,
    "start_time": "2022-11-17T13:00:45.508Z"
   },
   {
    "duration": 1025,
    "start_time": "2022-11-17T13:00:46.764Z"
   },
   {
    "duration": 668,
    "start_time": "2022-11-17T13:00:47.791Z"
   },
   {
    "duration": 13,
    "start_time": "2022-11-17T13:00:48.461Z"
   }
  ],
  "kernelspec": {
   "display_name": "Python 3 (ipykernel)",
   "language": "python",
   "name": "python3"
  },
  "language_info": {
   "codemirror_mode": {
    "name": "ipython",
    "version": 3
   },
   "file_extension": ".py",
   "mimetype": "text/x-python",
   "name": "python",
   "nbconvert_exporter": "python",
   "pygments_lexer": "ipython3",
   "version": "3.9.7"
  },
  "toc": {
   "base_numbering": 1,
   "nav_menu": {},
   "number_sections": true,
   "sideBar": true,
   "skip_h1_title": true,
   "title_cell": "Table of Contents",
   "title_sidebar": "Contents",
   "toc_cell": false,
   "toc_position": {},
   "toc_section_display": true,
   "toc_window_display": false
  }
 },
 "nbformat": 4,
 "nbformat_minor": 5
}
