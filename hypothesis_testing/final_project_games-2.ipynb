{
 "cells": [
  {
   "cell_type": "markdown",
   "metadata": {},
   "source": [
    "# Analysis of Advertising Sources and User Behavior in the Mobile Game \"Space Brothers\""
   ]
  },
  {
   "cell_type": "markdown",
   "metadata": {},
   "source": [
    "Research Goal - To analyze user behavior depending on the source of entry into the game.\n",
    "\n",
    "The analysis is based on data on events in the mobile game \"Space Brothers\" and information on advertising activities and user acquisition sources.\n",
    "\n",
    "The dataset contains event data for users playing the first level. It includes data from the initial cohort of app users who started using the app between May 4 and May 10."
   ]
  },
  {
   "cell_type": "markdown",
   "metadata": {},
   "source": [
    "1. [Data Collection and General Overview](#loading)\n",
    "2. [Data Preprocessing](#preprocessing)\n",
    "3. [Exploratory Data Analysis](#analysis)\n",
    "     * [Calculation of metrics for each user – acquisition time, number of objects built, source of game entry, acquisition cost, level completion method, level completion time](#calculation)\n",
    "     * [Advertising expenses broken down by acquisition channels](#cost)\n",
    "     * [Trends in the number of new users and the cost of acquiring one user, broken down by sources](#count_new_user)\n",
    "     * [User distribution by level completion method](#users)\n",
    "     * [User distribution by level completion time and number of objects built](#users_2)\n",
    "     \n",
    "4. [Analysis of the impact of the game entry source on user behavior](#transition_source)\n",
    "     * [Level completion time by user, broken down by game entry source ](#time)\n",
    "     * [Number of objects built by a user, broken down by game entry source](#buildings)\n",
    "     * [Level completion methods, broken down by game entry source](#methods)\n",
    "     \n",
    "5. [Statistical hypothesis testing](#hypotheses)\n",
    "     * [Hypothesis 1: The level completion time differs depending on the method of completing the level](#hypothes_1)\n",
    "     * [Hypothesis 2: The number of objects built by a user differs depending on the traffic source](#hypothes_2)\n",
    "     \n",
    "6. [General Conclusion](#conclusion)"
   ]
  },
  {
   "cell_type": "markdown",
   "metadata": {},
   "source": [
    "## Data Collection and General Overview<a id=\"loading\"></a>"
   ]
  },
  {
   "cell_type": "code",
   "execution_count": 16,
   "metadata": {},
   "outputs": [],
   "source": [
    "import pandas as pd\n",
    "import numpy as np\n",
    "import matplotlib.pyplot as plt\n",
    "import seaborn as sns\n",
    "from scipy import stats as st"
   ]
  },
  {
   "cell_type": "code",
   "execution_count": 17,
   "metadata": {
    "scrolled": true
   },
   "outputs": [
    {
     "name": "stdout",
     "output_type": "stream",
     "text": [
      "<class 'pandas.core.frame.DataFrame'>\n",
      "RangeIndex: 135640 entries, 0 to 135639\n",
      "Data columns (total 5 columns):\n",
      " #   Column          Non-Null Count   Dtype \n",
      "---  ------          --------------   ----- \n",
      " 0   event_datetime  135640 non-null  object\n",
      " 1   event           135640 non-null  object\n",
      " 2   building_type   127957 non-null  object\n",
      " 3   user_id         135640 non-null  object\n",
      " 4   project_type    1866 non-null    object\n",
      "dtypes: object(5)\n",
      "memory usage: 5.2+ MB\n"
     ]
    },
    {
     "data": {
      "text/html": [
       "<div>\n",
       "<style scoped>\n",
       "    .dataframe tbody tr th:only-of-type {\n",
       "        vertical-align: middle;\n",
       "    }\n",
       "\n",
       "    .dataframe tbody tr th {\n",
       "        vertical-align: top;\n",
       "    }\n",
       "\n",
       "    .dataframe thead th {\n",
       "        text-align: right;\n",
       "    }\n",
       "</style>\n",
       "<table border=\"1\" class=\"dataframe\">\n",
       "  <thead>\n",
       "    <tr style=\"text-align: right;\">\n",
       "      <th></th>\n",
       "      <th>event_datetime</th>\n",
       "      <th>event</th>\n",
       "      <th>building_type</th>\n",
       "      <th>user_id</th>\n",
       "      <th>project_type</th>\n",
       "    </tr>\n",
       "  </thead>\n",
       "  <tbody>\n",
       "    <tr>\n",
       "      <th>0</th>\n",
       "      <td>2020-05-04 00:00:01</td>\n",
       "      <td>building</td>\n",
       "      <td>assembly_shop</td>\n",
       "      <td>55e92310-cb8e-4754-b622-597e124b03de</td>\n",
       "      <td>NaN</td>\n",
       "    </tr>\n",
       "    <tr>\n",
       "      <th>1</th>\n",
       "      <td>2020-05-04 00:00:03</td>\n",
       "      <td>building</td>\n",
       "      <td>assembly_shop</td>\n",
       "      <td>c07b1c10-f477-44dc-81dc-ec82254b1347</td>\n",
       "      <td>NaN</td>\n",
       "    </tr>\n",
       "    <tr>\n",
       "      <th>2</th>\n",
       "      <td>2020-05-04 00:00:16</td>\n",
       "      <td>building</td>\n",
       "      <td>assembly_shop</td>\n",
       "      <td>6edd42cc-e753-4ff6-a947-2107cd560710</td>\n",
       "      <td>NaN</td>\n",
       "    </tr>\n",
       "    <tr>\n",
       "      <th>3</th>\n",
       "      <td>2020-05-04 00:00:16</td>\n",
       "      <td>building</td>\n",
       "      <td>assembly_shop</td>\n",
       "      <td>92c69003-d60a-444a-827f-8cc51bf6bf4c</td>\n",
       "      <td>NaN</td>\n",
       "    </tr>\n",
       "    <tr>\n",
       "      <th>4</th>\n",
       "      <td>2020-05-04 00:00:35</td>\n",
       "      <td>building</td>\n",
       "      <td>assembly_shop</td>\n",
       "      <td>cdc6bb92-0ccb-4490-9866-ef142f09139d</td>\n",
       "      <td>NaN</td>\n",
       "    </tr>\n",
       "  </tbody>\n",
       "</table>\n",
       "</div>"
      ],
      "text/plain": [
       "        event_datetime     event  building_type  \\\n",
       "0  2020-05-04 00:00:01  building  assembly_shop   \n",
       "1  2020-05-04 00:00:03  building  assembly_shop   \n",
       "2  2020-05-04 00:00:16  building  assembly_shop   \n",
       "3  2020-05-04 00:00:16  building  assembly_shop   \n",
       "4  2020-05-04 00:00:35  building  assembly_shop   \n",
       "\n",
       "                                user_id project_type  \n",
       "0  55e92310-cb8e-4754-b622-597e124b03de          NaN  \n",
       "1  c07b1c10-f477-44dc-81dc-ec82254b1347          NaN  \n",
       "2  6edd42cc-e753-4ff6-a947-2107cd560710          NaN  \n",
       "3  92c69003-d60a-444a-827f-8cc51bf6bf4c          NaN  \n",
       "4  cdc6bb92-0ccb-4490-9866-ef142f09139d          NaN  "
      ]
     },
     "metadata": {},
     "output_type": "display_data"
    },
    {
     "name": "stdout",
     "output_type": "stream",
     "text": [
      "<class 'pandas.core.frame.DataFrame'>\n",
      "RangeIndex: 28 entries, 0 to 27\n",
      "Data columns (total 3 columns):\n",
      " #   Column  Non-Null Count  Dtype  \n",
      "---  ------  --------------  -----  \n",
      " 0   source  28 non-null     object \n",
      " 1   day     28 non-null     object \n",
      " 2   cost    28 non-null     float64\n",
      "dtypes: float64(1), object(2)\n",
      "memory usage: 800.0+ bytes\n"
     ]
    },
    {
     "data": {
      "text/html": [
       "<div>\n",
       "<style scoped>\n",
       "    .dataframe tbody tr th:only-of-type {\n",
       "        vertical-align: middle;\n",
       "    }\n",
       "\n",
       "    .dataframe tbody tr th {\n",
       "        vertical-align: top;\n",
       "    }\n",
       "\n",
       "    .dataframe thead th {\n",
       "        text-align: right;\n",
       "    }\n",
       "</style>\n",
       "<table border=\"1\" class=\"dataframe\">\n",
       "  <thead>\n",
       "    <tr style=\"text-align: right;\">\n",
       "      <th></th>\n",
       "      <th>source</th>\n",
       "      <th>day</th>\n",
       "      <th>cost</th>\n",
       "    </tr>\n",
       "  </thead>\n",
       "  <tbody>\n",
       "    <tr>\n",
       "      <th>0</th>\n",
       "      <td>facebook_ads</td>\n",
       "      <td>2020-05-03</td>\n",
       "      <td>935.882786</td>\n",
       "    </tr>\n",
       "    <tr>\n",
       "      <th>1</th>\n",
       "      <td>facebook_ads</td>\n",
       "      <td>2020-05-04</td>\n",
       "      <td>548.354480</td>\n",
       "    </tr>\n",
       "    <tr>\n",
       "      <th>2</th>\n",
       "      <td>facebook_ads</td>\n",
       "      <td>2020-05-05</td>\n",
       "      <td>260.185754</td>\n",
       "    </tr>\n",
       "    <tr>\n",
       "      <th>3</th>\n",
       "      <td>facebook_ads</td>\n",
       "      <td>2020-05-06</td>\n",
       "      <td>177.982200</td>\n",
       "    </tr>\n",
       "    <tr>\n",
       "      <th>4</th>\n",
       "      <td>facebook_ads</td>\n",
       "      <td>2020-05-07</td>\n",
       "      <td>111.766796</td>\n",
       "    </tr>\n",
       "  </tbody>\n",
       "</table>\n",
       "</div>"
      ],
      "text/plain": [
       "         source         day        cost\n",
       "0  facebook_ads  2020-05-03  935.882786\n",
       "1  facebook_ads  2020-05-04  548.354480\n",
       "2  facebook_ads  2020-05-05  260.185754\n",
       "3  facebook_ads  2020-05-06  177.982200\n",
       "4  facebook_ads  2020-05-07  111.766796"
      ]
     },
     "metadata": {},
     "output_type": "display_data"
    },
    {
     "name": "stdout",
     "output_type": "stream",
     "text": [
      "<class 'pandas.core.frame.DataFrame'>\n",
      "RangeIndex: 13576 entries, 0 to 13575\n",
      "Data columns (total 2 columns):\n",
      " #   Column   Non-Null Count  Dtype \n",
      "---  ------   --------------  ----- \n",
      " 0   user_id  13576 non-null  object\n",
      " 1   source   13576 non-null  object\n",
      "dtypes: object(2)\n",
      "memory usage: 212.2+ KB\n"
     ]
    },
    {
     "data": {
      "text/html": [
       "<div>\n",
       "<style scoped>\n",
       "    .dataframe tbody tr th:only-of-type {\n",
       "        vertical-align: middle;\n",
       "    }\n",
       "\n",
       "    .dataframe tbody tr th {\n",
       "        vertical-align: top;\n",
       "    }\n",
       "\n",
       "    .dataframe thead th {\n",
       "        text-align: right;\n",
       "    }\n",
       "</style>\n",
       "<table border=\"1\" class=\"dataframe\">\n",
       "  <thead>\n",
       "    <tr style=\"text-align: right;\">\n",
       "      <th></th>\n",
       "      <th>user_id</th>\n",
       "      <th>source</th>\n",
       "    </tr>\n",
       "  </thead>\n",
       "  <tbody>\n",
       "    <tr>\n",
       "      <th>0</th>\n",
       "      <td>0001f83c-c6ac-4621-b7f0-8a28b283ac30</td>\n",
       "      <td>facebook_ads</td>\n",
       "    </tr>\n",
       "    <tr>\n",
       "      <th>1</th>\n",
       "      <td>00151b4f-ba38-44a8-a650-d7cf130a0105</td>\n",
       "      <td>yandex_direct</td>\n",
       "    </tr>\n",
       "    <tr>\n",
       "      <th>2</th>\n",
       "      <td>001aaea6-3d14-43f1-8ca8-7f48820f17aa</td>\n",
       "      <td>youtube_channel_reklama</td>\n",
       "    </tr>\n",
       "    <tr>\n",
       "      <th>3</th>\n",
       "      <td>001d39dc-366c-4021-9604-6a3b9ff01e25</td>\n",
       "      <td>instagram_new_adverts</td>\n",
       "    </tr>\n",
       "    <tr>\n",
       "      <th>4</th>\n",
       "      <td>002f508f-67b6-479f-814b-b05f00d4e995</td>\n",
       "      <td>facebook_ads</td>\n",
       "    </tr>\n",
       "  </tbody>\n",
       "</table>\n",
       "</div>"
      ],
      "text/plain": [
       "                                user_id                   source\n",
       "0  0001f83c-c6ac-4621-b7f0-8a28b283ac30             facebook_ads\n",
       "1  00151b4f-ba38-44a8-a650-d7cf130a0105            yandex_direct\n",
       "2  001aaea6-3d14-43f1-8ca8-7f48820f17aa  youtube_channel_reklama\n",
       "3  001d39dc-366c-4021-9604-6a3b9ff01e25    instagram_new_adverts\n",
       "4  002f508f-67b6-479f-814b-b05f00d4e995             facebook_ads"
      ]
     },
     "metadata": {},
     "output_type": "display_data"
    }
   ],
   "source": [
    "game_actions = pd.read_csv('datasets/game_actions.csv')\n",
    "ad_costs = pd.read_csv('datasets/ad_costs.csv')\n",
    "user_source = pd.read_csv('datasets/user_source.csv')\n",
    "game_actions.info()\n",
    "display(game_actions.head(5))\n",
    "ad_costs.info()\n",
    "display(ad_costs.head(5))\n",
    "user_source.info()\n",
    "display(user_source.head(5))"
   ]
  },
  {
   "cell_type": "markdown",
   "metadata": {},
   "source": [
    "The study uses three datasets: `game_actions`, `ad_costs`, and `user_source`. The `game_actions` dataset contains user activity data, `ad_costs` includes advertising information, and `user_source` provides acquisition sources.\n",
    "Missing values are only present in `game_actions`. Both `game_actions` and `ad_costs` contain date columns with incorrect data types (object instead of datetime)."
   ]
  },
  {
   "cell_type": "markdown",
   "metadata": {},
   "source": [
    "## Data Preprocessing  <a id=\"preprocessing\"></a>"
   ]
  },
  {
   "cell_type": "code",
   "execution_count": 18,
   "metadata": {},
   "outputs": [
    {
     "data": {
      "text/plain": [
       "event_datetime         0\n",
       "event                  0\n",
       "building_type       7683\n",
       "user_id                0\n",
       "project_type      133774\n",
       "dtype: int64"
      ]
     },
     "execution_count": 18,
     "metadata": {},
     "output_type": "execute_result"
    }
   ],
   "source": [
    "# Check for missing values\n",
    "game_actions.isnull().sum()"
   ]
  },
  {
   "cell_type": "markdown",
   "metadata": {},
   "source": [
    "Missing values in `game_actions` are due to the fact that not all columns need to be filled for each event. For example, building_type is only filled if event = building, so missing values should be left as-is."
   ]
  },
  {
   "cell_type": "code",
   "execution_count": 19,
   "metadata": {},
   "outputs": [
    {
     "name": "stdout",
     "output_type": "stream",
     "text": [
      "Number of duplicates in game_actions - 1\n",
      "Number of duplicates in ad_costs - 0\n",
      "Number of duplicates in user_source - 0\n",
      "Number of duplicates in game_actions after removal - 0\n"
     ]
    }
   ],
   "source": [
    "# Duplicate handling\n",
    "for name, table in [['game_actions', game_actions], ['ad_costs', ad_costs], ['user_source', user_source]]:\n",
    "    print(f'Number of duplicates in {name} - {table.duplicated().sum()}')\n",
    "\n",
    "# Duplicates in the game_actions dataset\n",
    "game_actions[game_actions.duplicated()]\n",
    "game_actions.drop_duplicates(inplace=True)\n",
    "\n",
    "# Verify duplicate removal\n",
    "print(f'Number of duplicates in game_actions after removal - {game_actions.duplicated().sum()}')"
   ]
  },
  {
   "cell_type": "markdown",
   "metadata": {},
   "source": [
    "A duplicate was found only in game_actions, likely an error. Since event times are recorded to the second, the same user cannot build two objects in the same second. Therefore, the duplicate should be removed."
   ]
  },
  {
   "cell_type": "code",
   "execution_count": 20,
   "metadata": {},
   "outputs": [
    {
     "data": {
      "text/plain": [
       "event_datetime    datetime64[ns]\n",
       "event                     object\n",
       "building_type             object\n",
       "user_id                   object\n",
       "project_type              object\n",
       "dtype: object"
      ]
     },
     "metadata": {},
     "output_type": "display_data"
    },
    {
     "data": {
      "text/plain": [
       "source     object\n",
       "day        object\n",
       "cost      float64\n",
       "dtype: object"
      ]
     },
     "execution_count": 20,
     "metadata": {},
     "output_type": "execute_result"
    }
   ],
   "source": [
    "# Converting data types to datetime\n",
    "game_actions['event_datetime'] = pd.to_datetime(game_actions['event_datetime'], format='%Y-%m-%d %H:%M:%S')\n",
    "ad_costs['day'] = pd.to_datetime(ad_costs['day'], format='%Y-%m-%d').dt.date\n",
    "display(game_actions.dtypes)\n",
    "ad_costs.dtypes"
   ]
  },
  {
   "cell_type": "markdown",
   "metadata": {},
   "source": [
    "Convert object to datetime in `game_actions` and `ad_costs`."
   ]
  },
  {
   "cell_type": "code",
   "execution_count": 21,
   "metadata": {},
   "outputs": [
    {
     "name": "stdout",
     "output_type": "stream",
     "text": [
      "Minimum date in game_actions - 2020-05-04 00:00:01, maximum date - 2020-06-05 12:32:49\n",
      "Minimum date in ad_costs - 2020-05-03, maximum date - 2020-05-09\n",
      "-------------------------\n",
      "event ['building' 'finished_stage_1' 'project']\n",
      "-------------------------\n",
      "building_type ['assembly_shop' 'research_center' 'spaceport' nan]\n",
      "-------------------------\n",
      "project_type ['satellite_orbital_assembly' nan]\n",
      "-------------------------\n",
      "ad_costs.source - ['facebook_ads' 'instagram_new_adverts' 'yandex_direct'\n",
      " 'youtube_channel_reklama']\n",
      "Minimum value of cost - 23.314669267402746, maximum value of cost - 969.1393939421928\n",
      "-------------------------\n",
      "user_source.source - ['facebook_ads' 'instagram_new_adverts' 'yandex_direct'\n",
      " 'youtube_channel_reklama']\n"
     ]
    }
   ],
   "source": [
    "# Check for errors in the data\n",
    "# Check date ranges\n",
    "print(f'Minimum date in game_actions - {game_actions.event_datetime.min()}, maximum date - {game_actions.event_datetime.max()}')\n",
    "print(f'Minimum date in ad_costs - {ad_costs.day.min()}, maximum date - {ad_costs.day.max()}')\n",
    "\n",
    "# Check unique values in game_actions columns\n",
    "for col in ['event', 'building_type', 'project_type']:\n",
    "    print('-'* 25)\n",
    "    print(col, game_actions[col].sort_values().unique())\n",
    "\n",
    "# Check unique values in ad_costs columns\n",
    "print('-'* 25)\n",
    "print(f'ad_costs.source - {ad_costs.source.sort_values().unique()}')\n",
    "print(f'Minimum value of cost - {ad_costs.cost.min()}, maximum value of cost - {ad_costs.cost.max()}')\n",
    "\n",
    "# Check unique values in user_source columns\n",
    "print('-'* 25)\n",
    "print(f'user_source.source - {user_source.source.sort_values().unique()}')"
   ]
  },
  {
   "cell_type": "markdown",
   "metadata": {},
   "source": [
    "The minimum date in the `ad_costs dataset` is one day earlier than the minimum date in `game_actions`. This is because the advertising is paid one day before placement. Therefore, to ensure accurate data analysis, one day should be added to the `ad_costs['day']` column. \n",
    "\n",
    "No other errors or inconsistencies were found in the remaining data"
   ]
  },
  {
   "cell_type": "code",
   "execution_count": 22,
   "metadata": {},
   "outputs": [
    {
     "name": "stdout",
     "output_type": "stream",
     "text": [
      "Minimum date in ad_costs - 2020-05-03, maximum date - 2020-05-09\n",
      "Minimum date after adding 1 day to ad_costs - 2020-05-04, maximum date - 2020-05-10\n"
     ]
    }
   ],
   "source": [
    "# Adding one day to the dates in ad_costs\n",
    "print(f'Minimum date in ad_costs - {ad_costs.day.min()}, maximum date - {ad_costs.day.max()}')\n",
    "ad_costs['day'] = ad_costs['day'] + pd.Timedelta(days=1)\n",
    "print(f'Minimum date after adding 1 day to ad_costs - {ad_costs.day.min()}, maximum date - {ad_costs.day.max()}')"
   ]
  },
  {
   "cell_type": "markdown",
   "metadata": {},
   "source": [
    "No significant errors were found in the data. The column names are correct, and the dates comply with the task requirements. \n",
    "One duplicate was removed from the `game_actions` dataset. The data type was changed to datetime in `ad_costs['day']` and `game_actions['event_datetime']`. \n",
    "One day was added to the data in the `ad_costs['day']` column."
   ]
  },
  {
   "cell_type": "markdown",
   "metadata": {},
   "source": [
    "## Exploratory Data Analysis  <a id=\"analysis\"></a>  "
   ]
  },
  {
   "cell_type": "markdown",
   "metadata": {},
   "source": [
    "### Calculation of metrics for each user – acquisition time, number of objects built, source of game entry, acquisition cost, level completion method, level completion time  <a id=\"calculation\"></a>  "
   ]
  },
  {
   "cell_type": "code",
   "execution_count": 23,
   "metadata": {},
   "outputs": [
    {
     "data": {
      "text/html": [
       "<div>\n",
       "<style scoped>\n",
       "    .dataframe tbody tr th:only-of-type {\n",
       "        vertical-align: middle;\n",
       "    }\n",
       "\n",
       "    .dataframe tbody tr th {\n",
       "        vertical-align: top;\n",
       "    }\n",
       "\n",
       "    .dataframe thead th {\n",
       "        text-align: right;\n",
       "    }\n",
       "</style>\n",
       "<table border=\"1\" class=\"dataframe\">\n",
       "  <thead>\n",
       "    <tr style=\"text-align: right;\">\n",
       "      <th></th>\n",
       "      <th>user_id</th>\n",
       "      <th>date_start</th>\n",
       "      <th>date_end</th>\n",
       "      <th>build_count</th>\n",
       "      <th>day</th>\n",
       "      <th>source</th>\n",
       "      <th>cost_per_user</th>\n",
       "    </tr>\n",
       "  </thead>\n",
       "  <tbody>\n",
       "    <tr>\n",
       "      <th>0</th>\n",
       "      <td>0001f83c-c6ac-4621-b7f0-8a28b283ac30</td>\n",
       "      <td>2020-05-06 01:07:37</td>\n",
       "      <td>2020-05-20 11:26:06</td>\n",
       "      <td>13</td>\n",
       "      <td>2020-05-06</td>\n",
       "      <td>facebook_ads</td>\n",
       "      <td>0.754162</td>\n",
       "    </tr>\n",
       "    <tr>\n",
       "      <th>1</th>\n",
       "      <td>00151b4f-ba38-44a8-a650-d7cf130a0105</td>\n",
       "      <td>2020-05-06 03:09:12</td>\n",
       "      <td>2020-05-18 10:46:52</td>\n",
       "      <td>9</td>\n",
       "      <td>2020-05-06</td>\n",
       "      <td>yandex_direct</td>\n",
       "      <td>0.464206</td>\n",
       "    </tr>\n",
       "    <tr>\n",
       "      <th>2</th>\n",
       "      <td>001aaea6-3d14-43f1-8ca8-7f48820f17aa</td>\n",
       "      <td>2020-05-05 18:08:52</td>\n",
       "      <td>2020-05-14 09:21:27</td>\n",
       "      <td>4</td>\n",
       "      <td>2020-05-05</td>\n",
       "      <td>youtube_channel_reklama</td>\n",
       "      <td>0.390759</td>\n",
       "    </tr>\n",
       "    <tr>\n",
       "      <th>3</th>\n",
       "      <td>001d39dc-366c-4021-9604-6a3b9ff01e25</td>\n",
       "      <td>2020-05-05 21:02:05</td>\n",
       "      <td>2020-05-12 07:40:47</td>\n",
       "      <td>8</td>\n",
       "      <td>2020-05-05</td>\n",
       "      <td>instagram_new_adverts</td>\n",
       "      <td>0.631816</td>\n",
       "    </tr>\n",
       "    <tr>\n",
       "      <th>4</th>\n",
       "      <td>002f508f-67b6-479f-814b-b05f00d4e995</td>\n",
       "      <td>2020-05-05 13:49:58</td>\n",
       "      <td>2020-05-22 02:46:45</td>\n",
       "      <td>12</td>\n",
       "      <td>2020-05-05</td>\n",
       "      <td>facebook_ads</td>\n",
       "      <td>0.790136</td>\n",
       "    </tr>\n",
       "  </tbody>\n",
       "</table>\n",
       "</div>"
      ],
      "text/plain": [
       "                                user_id          date_start  \\\n",
       "0  0001f83c-c6ac-4621-b7f0-8a28b283ac30 2020-05-06 01:07:37   \n",
       "1  00151b4f-ba38-44a8-a650-d7cf130a0105 2020-05-06 03:09:12   \n",
       "2  001aaea6-3d14-43f1-8ca8-7f48820f17aa 2020-05-05 18:08:52   \n",
       "3  001d39dc-366c-4021-9604-6a3b9ff01e25 2020-05-05 21:02:05   \n",
       "4  002f508f-67b6-479f-814b-b05f00d4e995 2020-05-05 13:49:58   \n",
       "\n",
       "             date_end  build_count         day                   source  \\\n",
       "0 2020-05-20 11:26:06           13  2020-05-06             facebook_ads   \n",
       "1 2020-05-18 10:46:52            9  2020-05-06            yandex_direct   \n",
       "2 2020-05-14 09:21:27            4  2020-05-05  youtube_channel_reklama   \n",
       "3 2020-05-12 07:40:47            8  2020-05-05    instagram_new_adverts   \n",
       "4 2020-05-22 02:46:45           12  2020-05-05             facebook_ads   \n",
       "\n",
       "   cost_per_user  \n",
       "0       0.754162  \n",
       "1       0.464206  \n",
       "2       0.390759  \n",
       "3       0.631816  \n",
       "4       0.790136  "
      ]
     },
     "execution_count": 23,
     "metadata": {},
     "output_type": "execute_result"
    }
   ],
   "source": [
    "# Calculation of client acquisition date and time and the number of buildings built\n",
    "users = game_actions.groupby('user_id', as_index=False).agg({'event_datetime':['min', 'max'],\n",
    "                                                             'building_type':'count'})\n",
    "users.columns = ['user_id', 'date_start', 'date_end', 'build_count']\n",
    "users['day'] = users['date_start'].dt.date\n",
    "\n",
    "# Adding the user acquisition source to the grouped table\n",
    "users = pd.merge(users, user_source, left_on='user_id', right_on='user_id')\n",
    "\n",
    "# Calculation of the acquisition cost per user\n",
    "users_count = users.groupby(['day', 'source'], as_index=False)['user_id'].count()\n",
    "ad_costs_group = ad_costs.groupby(['day', 'source'], as_index=False)['cost'].sum()\n",
    "\n",
    "cost_per_user = pd.merge(ad_costs_group, users_count, left_on=['day','source'], right_on=['day','source'])\n",
    "cost_per_user.rename(columns={'user_id':'users_count'}, inplace=True)\n",
    "cost_per_user['cost_per_user'] = cost_per_user['cost']/cost_per_user['users_count']\n",
    "\n",
    "# Adding the acquisition cost per user to the grouped table\n",
    "users = pd.merge(users, cost_per_user[['day','source', 'cost_per_user']], left_on=['day','source'], right_on=['day','source'])\n",
    "users.head(5)"
   ]
  },
  {
   "cell_type": "code",
   "execution_count": 24,
   "metadata": {},
   "outputs": [
    {
     "data": {
      "text/html": [
       "<div>\n",
       "<style scoped>\n",
       "    .dataframe tbody tr th:only-of-type {\n",
       "        vertical-align: middle;\n",
       "    }\n",
       "\n",
       "    .dataframe tbody tr th {\n",
       "        vertical-align: top;\n",
       "    }\n",
       "\n",
       "    .dataframe thead th {\n",
       "        text-align: right;\n",
       "    }\n",
       "</style>\n",
       "<table border=\"1\" class=\"dataframe\">\n",
       "  <thead>\n",
       "    <tr style=\"text-align: right;\">\n",
       "      <th></th>\n",
       "      <th>user_id</th>\n",
       "      <th>date_start</th>\n",
       "      <th>date_end</th>\n",
       "      <th>build_count</th>\n",
       "      <th>day</th>\n",
       "      <th>source</th>\n",
       "      <th>cost_per_user</th>\n",
       "      <th>way_end_level</th>\n",
       "      <th>time_finished</th>\n",
       "      <th>days_finished</th>\n",
       "    </tr>\n",
       "  </thead>\n",
       "  <tbody>\n",
       "    <tr>\n",
       "      <th>0</th>\n",
       "      <td>0001f83c-c6ac-4621-b7f0-8a28b283ac30</td>\n",
       "      <td>2020-05-06 01:07:37</td>\n",
       "      <td>2020-05-20 11:26:06</td>\n",
       "      <td>13</td>\n",
       "      <td>2020-05-06</td>\n",
       "      <td>facebook_ads</td>\n",
       "      <td>0.754162</td>\n",
       "      <td>not_finished</td>\n",
       "      <td>NaT</td>\n",
       "      <td>NaN</td>\n",
       "    </tr>\n",
       "    <tr>\n",
       "      <th>1</th>\n",
       "      <td>00151b4f-ba38-44a8-a650-d7cf130a0105</td>\n",
       "      <td>2020-05-06 03:09:12</td>\n",
       "      <td>2020-05-18 10:46:52</td>\n",
       "      <td>9</td>\n",
       "      <td>2020-05-06</td>\n",
       "      <td>yandex_direct</td>\n",
       "      <td>0.464206</td>\n",
       "      <td>not_finished</td>\n",
       "      <td>NaT</td>\n",
       "      <td>NaN</td>\n",
       "    </tr>\n",
       "    <tr>\n",
       "      <th>2</th>\n",
       "      <td>001aaea6-3d14-43f1-8ca8-7f48820f17aa</td>\n",
       "      <td>2020-05-05 18:08:52</td>\n",
       "      <td>2020-05-14 09:21:27</td>\n",
       "      <td>4</td>\n",
       "      <td>2020-05-05</td>\n",
       "      <td>youtube_channel_reklama</td>\n",
       "      <td>0.390759</td>\n",
       "      <td>not_finished</td>\n",
       "      <td>NaT</td>\n",
       "      <td>NaN</td>\n",
       "    </tr>\n",
       "    <tr>\n",
       "      <th>3</th>\n",
       "      <td>001d39dc-366c-4021-9604-6a3b9ff01e25</td>\n",
       "      <td>2020-05-05 21:02:05</td>\n",
       "      <td>2020-05-12 07:40:47</td>\n",
       "      <td>8</td>\n",
       "      <td>2020-05-05</td>\n",
       "      <td>instagram_new_adverts</td>\n",
       "      <td>0.631816</td>\n",
       "      <td>victory</td>\n",
       "      <td>6 days 10:38:42</td>\n",
       "      <td>6.0</td>\n",
       "    </tr>\n",
       "    <tr>\n",
       "      <th>4</th>\n",
       "      <td>002f508f-67b6-479f-814b-b05f00d4e995</td>\n",
       "      <td>2020-05-05 13:49:58</td>\n",
       "      <td>2020-05-22 02:46:45</td>\n",
       "      <td>12</td>\n",
       "      <td>2020-05-05</td>\n",
       "      <td>facebook_ads</td>\n",
       "      <td>0.790136</td>\n",
       "      <td>not_finished</td>\n",
       "      <td>NaT</td>\n",
       "      <td>NaN</td>\n",
       "    </tr>\n",
       "  </tbody>\n",
       "</table>\n",
       "</div>"
      ],
      "text/plain": [
       "                                user_id          date_start  \\\n",
       "0  0001f83c-c6ac-4621-b7f0-8a28b283ac30 2020-05-06 01:07:37   \n",
       "1  00151b4f-ba38-44a8-a650-d7cf130a0105 2020-05-06 03:09:12   \n",
       "2  001aaea6-3d14-43f1-8ca8-7f48820f17aa 2020-05-05 18:08:52   \n",
       "3  001d39dc-366c-4021-9604-6a3b9ff01e25 2020-05-05 21:02:05   \n",
       "4  002f508f-67b6-479f-814b-b05f00d4e995 2020-05-05 13:49:58   \n",
       "\n",
       "             date_end  build_count         day                   source  \\\n",
       "0 2020-05-20 11:26:06           13  2020-05-06             facebook_ads   \n",
       "1 2020-05-18 10:46:52            9  2020-05-06            yandex_direct   \n",
       "2 2020-05-14 09:21:27            4  2020-05-05  youtube_channel_reklama   \n",
       "3 2020-05-12 07:40:47            8  2020-05-05    instagram_new_adverts   \n",
       "4 2020-05-22 02:46:45           12  2020-05-05             facebook_ads   \n",
       "\n",
       "   cost_per_user way_end_level   time_finished  days_finished  \n",
       "0       0.754162  not_finished             NaT            NaN  \n",
       "1       0.464206  not_finished             NaT            NaN  \n",
       "2       0.390759  not_finished             NaT            NaN  \n",
       "3       0.631816       victory 6 days 10:38:42            6.0  \n",
       "4       0.790136  not_finished             NaT            NaN  "
      ]
     },
     "execution_count": 24,
     "metadata": {},
     "output_type": "execute_result"
    }
   ],
   "source": [
    "# Adding the method of level completion\n",
    "# Through project implementation\n",
    "users_project = game_actions.query('project_type == project_type')['user_id']\n",
    "        \n",
    "# Through defeating the first enemy\n",
    "users_victory = game_actions.query('event == \"finished_stage_1\"')\n",
    "users_victory = game_actions.loc[(game_actions['event'] == \"finished_stage_1\")\n",
    "                                & (~game_actions['user_id'].isin(users_project))]['user_id']\n",
    "\n",
    "# Adding the \"level completion method\" feature to the grouped table  \n",
    "conditions = [\n",
    "    (users['user_id'].isin(users_project)),\n",
    "    (users['user_id'].isin(users_victory))\n",
    "]\n",
    "choices = ['project', 'victory']\n",
    "users['way_end_level'] =np.select(conditions, choices, default='not_finished')\n",
    "\n",
    "# Calculating the exact level completion time and the number of days \n",
    "users['time_finished'] = (\n",
    "    users.query('way_end_level != \"not_finished\"')['date_end'] \n",
    "    - users.query('way_end_level != \"not_finished\"')['date_start']\n",
    ")\n",
    "users['days_finished'] = users['time_finished'].dt.days\n",
    "\n",
    "users.head(5)"
   ]
  },
  {
   "cell_type": "markdown",
   "metadata": {},
   "source": [
    "### Advertising expenses broken down by acquisition channels <a id=\"cost\"></a>  "
   ]
  },
  {
   "cell_type": "code",
   "execution_count": 25,
   "metadata": {},
   "outputs": [
    {
     "data": {
      "image/png": "[encoded data removed]",
      "text/plain": [
       "<Figure size 1080x360 with 3 Axes>"
      ]
     },
     "metadata": {
      "needs_background": "light"
     },
     "output_type": "display_data"
    }
   ],
   "source": [
    "fig, ax = plt.subplots(figsize = (15, 5))\n",
    "\n",
    "ad_costs.pivot_table(index = 'day', \n",
    "                  columns = 'source', \n",
    "                  values = 'cost', \n",
    "                  aggfunc='sum'\n",
    "                 ).plot(grid=True, ax=plt.subplot(1,2,1))\n",
    "plt.title('Trends in advertising expenses broken down by acquisition channels')\n",
    "plt.xticks(rotation=30)\n",
    "plt.xlabel('')\n",
    "plt.ylabel('total cost')\n",
    "\n",
    "ad_costs.groupby('source')['cost'].sum().plot.pie(autopct='%1.0f%%', ax=plt.subplot(1,2,2))\n",
    "plt.title('Structure of advertising expenses')\n",
    "plt.ylabel('')\n",
    "\n",
    "plt.show()"
   ]
  },
  {
   "cell_type": "markdown",
   "metadata": {},
   "source": [
    "Advertising expenses are decreasing exponentially across all acquisition channels. The highest advertising expenses occurred on the first day of the cohort. The advertising budget was distributed across four channels. Three channels received roughly equal shares of the budget: `instagram` (28%), `facebook` (28%), and `yandex` (29%), while one channel received half the amount – `youtube` (14%)."
   ]
  },
  {
   "cell_type": "markdown",
   "metadata": {},
   "source": [
    "### Trends in the number of new users and the cost of acquiring one user, broken down by sources <a id=\"count_new_user\"></a> "
   ]
  },
  {
   "cell_type": "code",
   "execution_count": 26,
   "metadata": {},
   "outputs": [
    {
     "data": {
      "image/png": "[encoded data removed]",
      "text/plain": [
       "<Figure size 1080x864 with 4 Axes>"
      ]
     },
     "metadata": {
      "needs_background": "light"
     },
     "output_type": "display_data"
    }
   ],
   "source": [
    "fig, ax = plt.subplots(figsize = (15, 12))\n",
    "\n",
    "users.pivot_table(index = 'day', \n",
    "                  columns = 'source', \n",
    "                  values = 'user_id', \n",
    "                  aggfunc='count').plot(grid=True, ax=plt.subplot(2,2,1))\n",
    "plt.title('Trends in the number of new users, broken down by sources')\n",
    "plt.xticks(rotation=20)\n",
    "plt.xlabel('')\n",
    "plt.ylabel('users')\n",
    "\n",
    "users.pivot_table(index = 'day', \n",
    "                  columns = 'source', \n",
    "                  values = 'cost_per_user', \n",
    "                  aggfunc='mean'\n",
    "                 ).plot(grid=True, ax=plt.subplot(2,2,2))\n",
    "plt.title('Cost of acquiring one user')\n",
    "plt.xticks(rotation=20)\n",
    "plt.xlabel('')\n",
    "\n",
    "\n",
    "users.groupby('source')['user_id'].count().plot.pie(autopct='%1.0f%%',\n",
    "                                                   ax=plt.subplot(2,2,3))\n",
    "plt.title('User distribution by acquisition channels')\n",
    "plt.ylabel('')\n",
    "\n",
    "plt.show()"
   ]
  },
  {
   "cell_type": "markdown",
   "metadata": {},
   "source": [
    "The largest share of users in this cohort was acquired on May 4th and 5th. After that, the user acquisition trend follows the pattern of advertising expenses.\n",
    "\n",
    "The most cost-effective acquisition channel (with the lowest cost per user) is `youtube_channel_reklama`. The second most cost-effective channel is `yandex_direct`. The most expensive acquisition channel is `facebook_ads`."
   ]
  },
  {
   "cell_type": "markdown",
   "metadata": {},
   "source": [
    "### User distribution by level completion method <a id=\"users\"></a> "
   ]
  },
  {
   "cell_type": "code",
   "execution_count": 27,
   "metadata": {},
   "outputs": [
    {
     "data": {
      "image/png": "[encoded data removed]",
      "text/plain": [
       "<Figure size 1080x360 with 1 Axes>"
      ]
     },
     "metadata": {},
     "output_type": "display_data"
    }
   ],
   "source": [
    "fig, ax = plt.subplots(figsize = (15, 5))\n",
    "users.groupby('way_end_level')['user_id'].count().plot.pie(autopct='%1.0f%%')\n",
    "plt.title('User distribution by method of level completion')\n",
    "plt.ylabel('')\n",
    "\n",
    "plt.show()"
   ]
  },
  {
   "cell_type": "markdown",
   "metadata": {},
   "source": [
    "57% of users did not complete the first level of the game. Among those who completed the first level, two-thirds of users defeated the first enemy, and one-third completed the project."
   ]
  },
  {
   "cell_type": "markdown",
   "metadata": {},
   "source": [
    "### User distribution by level completion time and number of objects built <a id=\"users_2\"></a>  "
   ]
  },
  {
   "cell_type": "code",
   "execution_count": 28,
   "metadata": {},
   "outputs": [
    {
     "data": {
      "image/png": "[encoded data removed]",
      "text/plain": [
       "<Figure size 1080x288 with 3 Axes>"
      ]
     },
     "metadata": {
      "needs_background": "light"
     },
     "output_type": "display_data"
    }
   ],
   "source": [
    "# User distribution by number of objects built\n",
    "fig, ax = plt.subplots(figsize=(15, 4))\n",
    "\n",
    "users.groupby('build_count')['user_id'].count().plot.bar(ax=plt.subplot(1, 2, 1))\n",
    "plt.xlabel('Number of objects built')\n",
    "plt.title('User distribution by number of objects built')\n",
    "\n",
    "# User distribution by level completion time\n",
    "users['days_finished'].hist(bins=30, ax=plt.subplot(1, 2, 2))\n",
    "plt.title('User distribution by level completion time')\n",
    "plt.xlabel('Number of days')\n",
    "plt.show()"
   ]
  },
  {
   "cell_type": "markdown",
   "metadata": {},
   "source": [
    "The distribution of users by level completion time (in days) is close to a normal distribution, with a peak at 11-12 days.\n",
    "\n",
    "The distribution of users by the number of objects built is also close to a normal distribution, except for a 'dip' at 7 and 8 objects. The peak occurs at 9-11 objects. The maximum number of objects built by users is 20, and the minimum is 1."
   ]
  },
  {
   "cell_type": "markdown",
   "metadata": {},
   "source": [
    "## Analysis of the impact of the game entry source on user behavior <a id=\"transition_source\"></a>"
   ]
  },
  {
   "cell_type": "markdown",
   "metadata": {},
   "source": [
    "### Level completion time by user, broken down by game entry source <a id=\"time\"></a>"
   ]
  },
  {
   "cell_type": "code",
   "execution_count": 29,
   "metadata": {},
   "outputs": [
    {
     "data": {
      "image/png": "[encoded data removed]",
      "text/plain": [
       "<Figure size 504x360 with 1 Axes>"
      ]
     },
     "metadata": {
      "needs_background": "light"
     },
     "output_type": "display_data"
    }
   ],
   "source": [
    "plt.figure(figsize=(7, 5))\n",
    "sns.histplot(data=users, x='days_finished', hue='source', kde=True)\n",
    "plt.title('User Distribution by Level Completion Time')\n",
    "plt.xlabel('Number of Days')\n",
    "plt.ylabel('Number of Users')\n",
    "plt.show()"
   ]
  },
  {
   "cell_type": "markdown",
   "metadata": {},
   "source": [
    "The distribution of users by level completion time (in days) is independent of the game entry source. All distribution graphs have a similar shape, with a peak at 10-11 days. This means that the majority of users complete the level in 10-11 days, regardless of the entry source"
   ]
  },
  {
   "cell_type": "markdown",
   "metadata": {},
   "source": [
    "### Number of objects built by a user, broken down by game entry source <a id=\"buildings\"></a>  "
   ]
  },
  {
   "cell_type": "code",
   "execution_count": 30,
   "metadata": {},
   "outputs": [
    {
     "data": {
      "image/png": "[encoded data removed]",
      "text/plain": [
       "<Figure size 432x288 with 1 Axes>"
      ]
     },
     "metadata": {
      "needs_background": "light"
     },
     "output_type": "display_data"
    },
    {
     "data": {
      "text/html": [
       "<div>\n",
       "<style scoped>\n",
       "    .dataframe tbody tr th:only-of-type {\n",
       "        vertical-align: middle;\n",
       "    }\n",
       "\n",
       "    .dataframe tbody tr th {\n",
       "        vertical-align: top;\n",
       "    }\n",
       "\n",
       "    .dataframe thead th {\n",
       "        text-align: right;\n",
       "    }\n",
       "</style>\n",
       "<table border=\"1\" class=\"dataframe\">\n",
       "  <thead>\n",
       "    <tr style=\"text-align: right;\">\n",
       "      <th></th>\n",
       "      <th>source</th>\n",
       "      <th>build_count</th>\n",
       "    </tr>\n",
       "  </thead>\n",
       "  <tbody>\n",
       "    <tr>\n",
       "      <th>0</th>\n",
       "      <td>facebook_ads</td>\n",
       "      <td>9.59</td>\n",
       "    </tr>\n",
       "    <tr>\n",
       "      <th>1</th>\n",
       "      <td>instagram_new_adverts</td>\n",
       "      <td>9.51</td>\n",
       "    </tr>\n",
       "    <tr>\n",
       "      <th>2</th>\n",
       "      <td>yandex_direct</td>\n",
       "      <td>9.35</td>\n",
       "    </tr>\n",
       "    <tr>\n",
       "      <th>3</th>\n",
       "      <td>youtube_channel_reklama</td>\n",
       "      <td>9.30</td>\n",
       "    </tr>\n",
       "  </tbody>\n",
       "</table>\n",
       "</div>"
      ],
      "text/plain": [
       "                    source  build_count\n",
       "0             facebook_ads         9.59\n",
       "1    instagram_new_adverts         9.51\n",
       "2            yandex_direct         9.35\n",
       "3  youtube_channel_reklama         9.30"
      ]
     },
     "execution_count": 30,
     "metadata": {},
     "output_type": "execute_result"
    }
   ],
   "source": [
    "sns.boxplot(data=users, x='build_count', y='source')\n",
    "plt.title('Number of buildings constructed by a user')\n",
    "plt.ylabel('')\n",
    "plt.xlabel('Number of buildings')\n",
    "plt.grid()\n",
    "plt.show()\n",
    "\n",
    "users.groupby('source', as_index=False)['build_count'].mean().round(2)"
   ]
  },
  {
   "cell_type": "markdown",
   "metadata": {},
   "source": [
    "The charts are almost identical. The median number of objects built is around 10 for all traffic sources. 50% of all users build between 6 and 12 buildings.\n",
    "\n",
    "The average number of objects built differs slightly. Users who entered the game via `youtube_channel_reklama` build the fewest objects (9.3 objects per user), while users who came through `facebook_ads` build the most (9.59 objects per user)."
   ]
  },
  {
   "cell_type": "markdown",
   "metadata": {},
   "source": [
    "### Level completion methods, broken down by game entry source  <a id=\"methods\"></a> "
   ]
  },
  {
   "cell_type": "code",
   "execution_count": 31,
   "metadata": {},
   "outputs": [
    {
     "data": {
      "text/html": [
       "<div>\n",
       "<style scoped>\n",
       "    .dataframe tbody tr th:only-of-type {\n",
       "        vertical-align: middle;\n",
       "    }\n",
       "\n",
       "    .dataframe tbody tr th {\n",
       "        vertical-align: top;\n",
       "    }\n",
       "\n",
       "    .dataframe thead th {\n",
       "        text-align: right;\n",
       "    }\n",
       "</style>\n",
       "<table border=\"1\" class=\"dataframe\">\n",
       "  <thead>\n",
       "    <tr style=\"text-align: right;\">\n",
       "      <th>way_end_level</th>\n",
       "      <th>not_finished</th>\n",
       "      <th>project</th>\n",
       "      <th>victory</th>\n",
       "    </tr>\n",
       "    <tr>\n",
       "      <th>source</th>\n",
       "      <th></th>\n",
       "      <th></th>\n",
       "      <th></th>\n",
       "    </tr>\n",
       "  </thead>\n",
       "  <tbody>\n",
       "    <tr>\n",
       "      <th>facebook_ads</th>\n",
       "      <td>57.81</td>\n",
       "      <td>14.34</td>\n",
       "      <td>27.84</td>\n",
       "    </tr>\n",
       "    <tr>\n",
       "      <th>instagram_new_adverts</th>\n",
       "      <td>56.20</td>\n",
       "      <td>14.22</td>\n",
       "      <td>29.58</td>\n",
       "    </tr>\n",
       "    <tr>\n",
       "      <th>yandex_direct</th>\n",
       "      <td>57.61</td>\n",
       "      <td>12.87</td>\n",
       "      <td>29.52</td>\n",
       "    </tr>\n",
       "    <tr>\n",
       "      <th>youtube_channel_reklama</th>\n",
       "      <td>56.85</td>\n",
       "      <td>14.11</td>\n",
       "      <td>29.04</td>\n",
       "    </tr>\n",
       "  </tbody>\n",
       "</table>\n",
       "</div>"
      ],
      "text/plain": [
       "way_end_level            not_finished  project  victory\n",
       "source                                                 \n",
       "facebook_ads                    57.81    14.34    27.84\n",
       "instagram_new_adverts           56.20    14.22    29.58\n",
       "yandex_direct                   57.61    12.87    29.52\n",
       "youtube_channel_reklama         56.85    14.11    29.04"
      ]
     },
     "execution_count": 31,
     "metadata": {},
     "output_type": "execute_result"
    }
   ],
   "source": [
    "pd.pivot_table(data=users, \n",
    "               index='source', \n",
    "               columns='way_end_level', \n",
    "               values='user_id', \n",
    "               aggfunc='count').apply(lambda x: (x * 100) / sum(x), axis=1).round(2)"
   ]
  },
  {
   "cell_type": "markdown",
   "metadata": {},
   "source": [
    "The distribution of users by level completion method does not change significantly depending on the game entry source. The highest proportion of users who did not complete the first level is among those who came from `facebook_ads`, while the lowest is among those who came from `instagram_new_adverts`. The highest proportion of users who completed the first level through project implementation is among those who came from `facebook_ads`, while the lowest is among those who came from `yandex_direct`."
   ]
  },
  {
   "cell_type": "markdown",
   "metadata": {},
   "source": [
    "Thus, user behavior differs slightly depending on the entry source – in terms of the average number of objects built and the method of level completion.\n",
    "\n",
    "Users who came from `facebook_ads` are less likely to complete the first level compared to users from other channels, but they are more likely to complete the level through project implementation.\n",
    "\n",
    "Users who came from `instagram_new_adverts` are more likely than others to complete the first level, and they are more likely to finish the first level by defeating the first enemy.\n",
    "\n",
    "Users from `yandex_direct` complete the first level in a manner similar to those from facebook_ads, but they are less likely to finish the level through project implementation compared to other users.\n",
    "\n",
    "Users who came from `youtube_channel_reklama` have behavior patterns that are roughly in the middle."
   ]
  },
  {
   "cell_type": "markdown",
   "metadata": {},
   "source": [
    "## Statistical hypothesis testing<a id=\"hypotheses\"></a>"
   ]
  },
  {
   "cell_type": "markdown",
   "metadata": {},
   "source": [
    "### Hypothesis 1: The level completion time differs depending on the method of completing the level <a id=\"hypothes_1\"></a>"
   ]
  },
  {
   "cell_type": "markdown",
   "metadata": {},
   "source": [
    "Null Hypothesis: The level completion time is the same for the two methods of completing the level.\n",
    "\n",
    "Alternative Hypothesis: The level completion time differs for the two methods of completing the level."
   ]
  },
  {
   "cell_type": "code",
   "execution_count": 32,
   "metadata": {},
   "outputs": [
    {
     "name": "stdout",
     "output_type": "stream",
     "text": [
      "p-значение:  1.8882835392369192e-97\n",
      "Reject the null hypothesis\n"
     ]
    }
   ],
   "source": [
    "sample_1 = users.query('way_end_level == \"project\"')['days_finished']\n",
    "sample_2 = users.query('way_end_level == \"victory\"')['days_finished']\n",
    "\n",
    "alpha = .05\n",
    "results = st.ttest_ind(sample_1, sample_2)\n",
    "\n",
    "print('p-значение: ', results.pvalue)\n",
    "\n",
    "if results.pvalue < alpha: \n",
    "    print('Reject the null hypothesis')\n",
    "else:\n",
    "    print('Fail to reject the null hypothesis')"
   ]
  },
  {
   "cell_type": "markdown",
   "metadata": {},
   "source": [
    "We use the method st.ttest_ind to test the hypothesis, as we are comparing the means of two populations based on samples taken from them. Since the samples are of different sizes, we specify the parameter equal_var = False.\n",
    "\n",
    "Thus, at the 5% significance level, there is sufficient evidence to reject the null hypothesis of equal level completion times for the two methods in favor of the alternative hypothesis."
   ]
  },
  {
   "cell_type": "markdown",
   "metadata": {},
   "source": [
    "### Hypothesis 2: The number of objects built by a user differs depending on the traffic source. <a id=\"hypothes_2\"></a>"
   ]
  },
  {
   "cell_type": "markdown",
   "metadata": {},
   "source": [
    "There are four sources of user entry into the game: `facebook_ads`, `yandex_direct`, `youtube_channel_reklama`, and `instagram_new_adverts`. To test the hypothesis about the difference in the number of objects built by a user, we need to perform pairwise comparisons of the 4 samples.\n",
    "\n",
    "Therefore, we need to formulate and test 6 null hypotheses."
   ]
  },
  {
   "cell_type": "markdown",
   "metadata": {},
   "source": [
    "1. H₀: The mean number of objects built by users from `facebook_ads` is equal to the mean number of objects built by users from `yandex_direct`.\n",
    "\n",
    "2. H₀: The mean number of objects built by users from `facebook_ads` is equal to the mean number of objects built by users from `youtube_channel_reklama`.\n",
    "\n",
    "3. H₀: The mean number of objects built by users from `facebook_ads` is equal to the mean number of objects built by users from `instagram_new_adverts`.\n",
    "\n",
    "4. H₀: The mean number of objects built by users from `yandex_direct` is equal to the mean number of objects built by users from `youtube_channel_reklama`.\n",
    "\n",
    "5. H₀: The mean number of objects built by users from `yandex_direct` is equal to the mean number of objects built by users from `instagram_new_adverts`.\n",
    "\n",
    "6. H₀: The mean number of objects built by users from `youtube_channel_reklama` is equal to the mean number of objects built by users from `instagram_new_adverts`."
   ]
  },
  {
   "cell_type": "code",
   "execution_count": 33,
   "metadata": {},
   "outputs": [
    {
     "name": "stdout",
     "output_type": "stream",
     "text": [
      "Hypothesis test 1, alternative hypothesis facebook_ads > yandex_direct\n",
      "p-value:  0.010411759321497693\n",
      "Reject the null hypothesis\n",
      "------------------------------\n",
      "Hypothesis test 2, alternative hypothesis facebook_ads > youtube_channel_reklama\n",
      "p-value:  0.006588846148210501\n",
      "Reject the null hypothesis\n",
      "------------------------------\n",
      "Hypothesis test 3, alternative hypothesis facebook_ads > instagram_new_adverts\n",
      "p-value:  0.4185321366657372\n",
      "Fail to reject the null hypothesis\n",
      "------------------------------\n",
      "Hypothesis test 4, alternative hypothesis yandex_direct > youtube_channel_reklama\n",
      "p-value:  0.5972890424874877\n",
      "Fail to reject the null hypothesis\n",
      "------------------------------\n",
      "Hypothesis test 5, alternative hypothesis instagram_new_adverts > yandex_direct\n",
      "p-value:  0.06989780662351841\n",
      "Reject the null hypothesis\n",
      "------------------------------\n",
      "Hypothesis test 6, alternative hypothesis instagram_new_adverts > youtube_channel_reklama\n",
      "p-value:  0.03897927011517954\n",
      "Reject the null hypothesis\n",
      "------------------------------\n"
     ]
    }
   ],
   "source": [
    "sample_1 = users.query('source == \"facebook_ads\"')['build_count']\n",
    "sample_2 = users.query('source == \"yandex_direct\"')['build_count']\n",
    "sample_3 = users.query('source == \"youtube_channel_reklama\"')['build_count']\n",
    "sample_4 = users.query('source == \"instagram_new_adverts\"')['build_count']\n",
    "\n",
    "alpha = .05\n",
    "\n",
    "sample_list = [[1, 'facebook_ads > yandex_direct', sample_1, sample_2], \n",
    "               [2, 'facebook_ads > youtube_channel_reklama', sample_1, sample_3], \n",
    "               [3, 'facebook_ads > instagram_new_adverts', sample_1, sample_4], \n",
    "               [4, 'yandex_direct > youtube_channel_reklama', sample_2, sample_3], \n",
    "               [5, 'instagram_new_adverts > yandex_direct', sample_4, sample_2],\n",
    "               [6, 'instagram_new_adverts > youtube_channel_reklama', sample_4, sample_3]]\n",
    "\n",
    "for number, name, a, b in sample_list:\n",
    "    results = st.ttest_ind(a, b)\n",
    "    print(f'Hypothesis test {number}, alternative hypothesis {name}')\n",
    "    print('p-value: ', results.pvalue)\n",
    "    if results.pvalue/2 < alpha and a.mean() > b.mean(): \n",
    "        print('Reject the null hypothesis')\n",
    "    else:\n",
    "        print('Fail to reject the null hypothesis')\n",
    "    print('-'*30)"
   ]
  },
  {
   "cell_type": "markdown",
   "metadata": {},
   "source": [
    "For hypothesis testing, I used a one-tailed Student's t-test.\n",
    "Based on the results of the tests, at a 5% significance level, there is enough evidence to reject the null hypotheses 1, 2, 5, and 6 in favor of the alternative hypotheses. The null hypotheses 3 and 4 were not rejected.\n",
    "\n",
    "Thus, with 95% confidence, the average number of objects built by users coming from `facebook_ads` is greater than that of users coming from `yandex_direct` and `youtube_channel_reklama`.\n",
    "And, with 95% confidence, the average number of objects built by users coming from `instagram_new_adverts` is greater than that of users coming from `yandex_direct` and `youtube_channel_reklama`."
   ]
  },
  {
   "cell_type": "markdown",
   "metadata": {},
   "source": [
    "## Conclusion <a id=\"conclusion\"></a>"
   ]
  },
  {
   "cell_type": "markdown",
   "metadata": {},
   "source": [
    "1. Users come to the game through four channels: `yandex_direct`, `youtube_channel_reklama`, `facebook_ads`, and `instagram_new_adverts`. The largest share of users came through `yandex_direct` (35%).\n",
    "\n",
    "2. The lowest cost per user acquisition is found in the `yandex_direct` and `youtube_channel_reklama` channels.\n",
    "\n",
    "3. More than half of the users (57%) do not complete the first level. Of those who do complete it, one-third finish it through project realization, while two-thirds complete it by defeating the first enemy.\n",
    "\n",
    "4. The time taken to complete the level by users differs depending on the method used to complete it.\n",
    "\n",
    "5. User behavior slightly varies depending on the acquisition channel. Since ads are shown on the screen where users select a building to construct, the number of buildings constructed is an important factor. \n",
    "There are small, but statistically significant (at the 5% significance level) differences in this metric across the acquisition channels. The most objects are built by users from `facebook_ads` and `instagram_new_adverts`. However, since the cost of user acquisition through these channels is higher than through others, it is necessary to compare the expected user profitability with the costs of acquiring them."
   ]
  },
  {
   "cell_type": "code",
   "execution_count": null,
   "metadata": {},
   "outputs": [],
   "source": []
  }
 ],
 "metadata": {
  "ExecuteTimeLog": [
   {
    "duration": 1325,
    "start_time": "2022-11-10T23:06:16.431Z"
   },
   {
    "duration": 116,
    "start_time": "2022-11-10T23:06:24.264Z"
   },
   {
    "duration": 9,
    "start_time": "2022-11-10T23:10:53.222Z"
   },
   {
    "duration": 820,
    "start_time": "2022-11-10T23:11:26.798Z"
   },
   {
    "duration": 41,
    "start_time": "2022-11-10T23:12:31.174Z"
   },
   {
    "duration": 75,
    "start_time": "2022-11-10T23:12:53.242Z"
   },
   {
    "duration": 300,
    "start_time": "2022-11-10T23:13:10.738Z"
   },
   {
    "duration": 37,
    "start_time": "2022-11-10T23:14:02.676Z"
   },
   {
    "duration": 162,
    "start_time": "2022-11-10T23:14:30.613Z"
   },
   {
    "duration": 5,
    "start_time": "2022-11-10T23:15:49.625Z"
   },
   {
    "duration": 3,
    "start_time": "2022-11-10T23:16:46.753Z"
   },
   {
    "duration": 99,
    "start_time": "2022-11-10T23:17:20.023Z"
   },
   {
    "duration": 51,
    "start_time": "2022-11-10T23:17:37.542Z"
   },
   {
    "duration": 417,
    "start_time": "2022-11-10T23:18:10.352Z"
   },
   {
    "duration": 540,
    "start_time": "2022-11-10T23:18:49.090Z"
   },
   {
    "duration": 85,
    "start_time": "2022-11-10T23:19:28.969Z"
   },
   {
    "duration": 337,
    "start_time": "2022-11-10T23:20:07.506Z"
   },
   {
    "duration": 603,
    "start_time": "2022-11-10T23:20:54.817Z"
   },
   {
    "duration": 182,
    "start_time": "2022-11-10T23:21:26.292Z"
   },
   {
    "duration": 27,
    "start_time": "2022-11-10T23:21:56.199Z"
   },
   {
    "duration": 12,
    "start_time": "2022-11-10T23:23:27.252Z"
   },
   {
    "duration": 28,
    "start_time": "2022-11-10T23:25:07.315Z"
   },
   {
    "duration": 1064,
    "start_time": "2022-11-10T23:25:59.545Z"
   },
   {
    "duration": 308,
    "start_time": "2022-11-10T23:26:00.610Z"
   },
   {
    "duration": 30,
    "start_time": "2022-11-10T23:26:00.919Z"
   },
   {
    "duration": 304,
    "start_time": "2022-11-10T23:26:00.951Z"
   },
   {
    "duration": 38,
    "start_time": "2022-11-10T23:26:01.256Z"
   },
   {
    "duration": 183,
    "start_time": "2022-11-10T23:26:01.296Z"
   },
   {
    "duration": 5,
    "start_time": "2022-11-10T23:26:01.482Z"
   },
   {
    "duration": 110,
    "start_time": "2022-11-10T23:26:01.489Z"
   },
   {
    "duration": 67,
    "start_time": "2022-11-10T23:26:01.601Z"
   },
   {
    "duration": 429,
    "start_time": "2022-11-10T23:26:01.670Z"
   },
   {
    "duration": 537,
    "start_time": "2022-11-10T23:26:02.101Z"
   },
   {
    "duration": 109,
    "start_time": "2022-11-10T23:26:02.639Z"
   },
   {
    "duration": 360,
    "start_time": "2022-11-10T23:26:02.749Z"
   },
   {
    "duration": 607,
    "start_time": "2022-11-10T23:26:03.111Z"
   },
   {
    "duration": 202,
    "start_time": "2022-11-10T23:26:03.719Z"
   },
   {
    "duration": 36,
    "start_time": "2022-11-10T23:26:03.923Z"
   },
   {
    "duration": 14,
    "start_time": "2022-11-10T23:26:03.960Z"
   },
   {
    "duration": 58,
    "start_time": "2022-11-10T23:26:03.975Z"
   }
  ],
  "kernelspec": {
   "display_name": "Python 3 (ipykernel)",
   "language": "python",
   "name": "python3"
  },
  "language_info": {
   "codemirror_mode": {
    "name": "ipython",
    "version": 3
   },
   "file_extension": ".py",
   "mimetype": "text/x-python",
   "name": "python",
   "nbconvert_exporter": "python",
   "pygments_lexer": "ipython3",
   "version": "3.9.7"
  },
  "toc": {
   "base_numbering": 1,
   "nav_menu": {},
   "number_sections": true,
   "sideBar": true,
   "skip_h1_title": true,
   "title_cell": "Table of Contents",
   "title_sidebar": "Contents",
   "toc_cell": false,
   "toc_position": {},
   "toc_section_display": true,
   "toc_window_display": true
  }
 },
 "nbformat": 4,
 "nbformat_minor": 2
}
